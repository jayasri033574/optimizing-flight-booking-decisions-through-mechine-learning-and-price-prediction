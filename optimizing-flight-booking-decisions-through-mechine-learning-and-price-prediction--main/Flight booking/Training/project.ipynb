{
  "nbformat": 4,
  "nbformat_minor": 0,
  "metadata": {
    "colab": {
      "provenance": []
    },
    "kernelspec": {
      "name": "python3",
      "display_name": "Python 3"
    },
    "language_info": {
      "name": "python"
    }
  },
  "cells": [
    {
      "cell_type": "code",
      "execution_count": null,
      "metadata": {
        "id": "pshkdVTZyMyF"
      },
      "outputs": [],
      "source": [
        "import numpy as np\n",
        "\n",
        "import pandas as pd\n",
        "\n",
        "import matplotlib.pyplot as plt\n",
        "\n",
        "import seaborn as sns\n",
        "\n",
        "from sklearn.model_selection import train_test_split\n",
        "\n",
        "from sklearn.ensemble import RandomForestClassifier,GradientBoostingRegressor,AdaBoostRegressor\n",
        "\n",
        "from sklearn.tree import DecisionTreeClassifier\n",
        "\n",
        "from sklearn.neighbors import KNeighborsClassifier \n",
        "\n",
        "from sklearn.metrics import f1_score\n",
        "\n",
        "from sklearn.metrics import classification_report, confusion_matrix\n",
        "\n",
        "import warnings\n",
        "\n",
        "import pickle\n",
        "\n",
        "from scipy import stats\n",
        "\n",
        "warnings.filterwarnings('ignore')\n",
        "\n",
        "plt.style.use('fivethirtyeight')\n",
        "\n"
      ]
    },
    {
      "cell_type": "code",
      "source": [
        "data=pd.read_csv('/content/sample_data/Data_Train(1).csv')"
      ],
      "metadata": {
        "id": "ufN8Ra7xCST9"
      },
      "execution_count": null,
      "outputs": []
    },
    {
      "cell_type": "code",
      "source": [
        "data.head()"
      ],
      "metadata": {
        "id": "ZQh0Dr45CnLy"
      },
      "execution_count": null,
      "outputs": []
    },
    {
      "cell_type": "code",
      "source": [
        "for i in category:\n",
        "  print(i, data[i].unique())"
      ],
      "metadata": {
        "id": "OSey9F2XC1tX"
      },
      "execution_count": null,
      "outputs": []
    },
    {
      "cell_type": "code",
      "source": [
        "#we now split the Date column to extract the 'Date','Month',and'Year' values,and store them in new columns in our dataframe.\n",
        "data.Date_of_Journey=data.Date_of_Journey.str.split('/')\n"
      ],
      "metadata": {
        "id": "ErIWlzESnXeK"
      },
      "execution_count": null,
      "outputs": []
    },
    {
      "cell_type": "code",
      "source": [
        "data.Date_of_Journey"
      ],
      "metadata": {
        "colab": {
          "base_uri": "https://localhost:8080/"
        },
        "id": "YIEy-Y-UqpTg",
        "outputId": "8ad471e2-a193-4e74-e27b-a51fdc3b9e4b"
      },
      "execution_count": null,
      "outputs": [
        {
          "output_type": "execute_result",
          "data": {
            "text/plain": [
              "0        24/03/2019\n",
              "1         1/05/2019\n",
              "2         9/06/2019\n",
              "3        12/05/2019\n",
              "4        01/03/2019\n",
              "            ...    \n",
              "10678     9/04/2019\n",
              "10679    27/04/2019\n",
              "10680    27/04/2019\n",
              "10681    01/03/2019\n",
              "10682     9/05/2019\n",
              "Name: Date_of_Journey, Length: 10683, dtype: object"
            ]
          },
          "metadata": {},
          "execution_count": 7
        }
      ]
    },
    {
      "cell_type": "code",
      "source": [
        "data['Date']=data.Date_of_Journey.str[0]\n",
        "data['Month']=data.Date_of_Journey.str[1]\n",
        "data['Year']=data.Date_of_Journey.str[2]"
      ],
      "metadata": {
        "id": "yrJZHFqdrCRJ"
      },
      "execution_count": null,
      "outputs": []
    },
    {
      "cell_type": "code",
      "source": [
        "data.Total_Stops.unique()"
      ],
      "metadata": {
        "colab": {
          "base_uri": "https://localhost:8080/"
        },
        "id": "0xfrBcdGr_bX",
        "outputId": "73929302-1162-46e5-e702-0e0b1fcec24a"
      },
      "execution_count": null,
      "outputs": [
        {
          "output_type": "execute_result",
          "data": {
            "text/plain": [
              "array(['non-stop', '2 stops', '1 stop', '3 stops', nan, '4 stops'],\n",
              "      dtype=object)"
            ]
          },
          "metadata": {},
          "execution_count": 9
        }
      ]
    },
    {
      "cell_type": "code",
      "source": [
        "data.Route=data.Route.str.split('->')\n",
        "data.Route"
      ],
      "metadata": {
        "colab": {
          "base_uri": "https://localhost:8080/"
        },
        "id": "nlZmHCkssTfq",
        "outputId": "3a203cc5-0a1c-4c33-d481-393d65f6364a"
      },
      "execution_count": null,
      "outputs": [
        {
          "output_type": "execute_result",
          "data": {
            "text/plain": [
              "0                    [BLR → DEL]\n",
              "1        [CCU → IXR → BBI → BLR]\n",
              "2        [DEL → LKO → BOM → COK]\n",
              "3              [CCU → NAG → BLR]\n",
              "4              [BLR → NAG → DEL]\n",
              "                  ...           \n",
              "10678                [CCU → BLR]\n",
              "10679                [CCU → BLR]\n",
              "10680                [BLR → DEL]\n",
              "10681                [BLR → DEL]\n",
              "10682    [DEL → GOI → BOM → COK]\n",
              "Name: Route, Length: 10683, dtype: object"
            ]
          },
          "metadata": {},
          "execution_count": 10
        }
      ]
    },
    {
      "cell_type": "code",
      "source": [
        "data['City1']=data.Route.str[0]\n",
        "\n",
        "data['City2']=data.Route.str[1]\n",
        "\n",
        "data['City3']=data.Route.str[2]\n",
        "\n",
        "data['City4']=data.Route.str[3]\n",
        "\n",
        "data['City']=data.Route.str[4]\n",
        "\n",
        "data['City6']=data.Route.str[5]"
      ],
      "metadata": {
        "id": "hy5ntc4msz5q"
      },
      "execution_count": null,
      "outputs": []
    },
    {
      "cell_type": "code",
      "source": [
        "data.Dep_Time=data.Dep_Time.str.split(':')"
      ],
      "metadata": {
        "id": "ze1GcuAftsep"
      },
      "execution_count": null,
      "outputs": []
    },
    {
      "cell_type": "code",
      "source": [
        "data['Dep_Time_Hour' ]=data.Dep_Time.str[0] \n",
        "data['Dep_Time_Mins' ]=data.Dep_Time.str[1]"
      ],
      "metadata": {
        "id": "hhGzjNMNt960"
      },
      "execution_count": null,
      "outputs": []
    },
    {
      "cell_type": "code",
      "source": [
        "data. Arrival_Time=data. Arrival_Time.str.split(' ')"
      ],
      "metadata": {
        "id": "9sZNaYOGucwx"
      },
      "execution_count": null,
      "outputs": []
    },
    {
      "cell_type": "code",
      "source": [
        "data['Arrival_date']=data. Arrival_Time.str[1]\n",
        "data['Time_of_Arrival' ]=data. Arrival_Time.str[0]"
      ],
      "metadata": {
        "id": "wl7ToAZyupxD"
      },
      "execution_count": null,
      "outputs": []
    },
    {
      "cell_type": "code",
      "source": [
        "data['Time_of_Arrival' ]=data. Time_of_Arrival.str.split(':')"
      ],
      "metadata": {
        "id": "FuCPfWaqu5iH"
      },
      "execution_count": null,
      "outputs": []
    },
    {
      "cell_type": "code",
      "source": [
        "data['Arrival_Time_Hour' ]=data. Time_of_Arrival.str[0]\n",
        "\n",
        "data['Arrival_Time_Mins' ]=data.Time_of_Arrival.str[1]"
      ],
      "metadata": {
        "id": "7ZM0w_QUvBAw"
      },
      "execution_count": null,
      "outputs": []
    },
    {
      "cell_type": "code",
      "source": [
        "data.Duration=data.Duration. str.split(' ')"
      ],
      "metadata": {
        "id": "gsCrnLNivMnX"
      },
      "execution_count": null,
      "outputs": []
    },
    {
      "cell_type": "code",
      "source": [
        "data['Travel_Hours']=data.Duration.str[0]\n",
        "data['Travel_Hours']=data['Travel_Hours'].str.split('h') \n",
        "data['Travel Hours']=data['Travel_Hours'].str[0]\n",
        "data. Travel_Hours=data. Travel_Hours\n",
        "data['Travel_Mins ']=data.Duration.str[1]\n",
        "\n",
        "data.Travel_Mins=data.Travel_Mins.str.split('m')\n",
        "data.Travel_Mins=data.Travel_Mins.str[0]"
      ],
      "metadata": {
        "id": "YK_oTbEKvbdi"
      },
      "execution_count": null,
      "outputs": []
    },
    {
      "cell_type": "code",
      "source": [
        "data.Total_Stops.replace('non_stop',0, inplace=True) \n",
        "data.Total_Stops=data.Total_Stops.str.split(' ')\n",
        "data.Total_Stops=data.Total_Stops.str[0]"
      ],
      "metadata": {
        "id": "el8MHqpT0B-I"
      },
      "execution_count": null,
      "outputs": []
    },
    {
      "cell_type": "code",
      "source": [
        "data.Additional_Info.unique()"
      ],
      "metadata": {
        "colab": {
          "base_uri": "https://localhost:8080/"
        },
        "id": "v_NNrdUV0rVt",
        "outputId": "60133bb9-b3a5-4b26-bd33-aad8b0bf7e5b"
      },
      "execution_count": null,
      "outputs": [
        {
          "output_type": "execute_result",
          "data": {
            "text/plain": [
              "array(['No info', 'In-flight meal not included',\n",
              "       'No check-in baggage included', '1 Short layover', 'No Info',\n",
              "       '1 Long layover', 'Change airports', 'Business class',\n",
              "       'Red-eye flight', '2 Long layover'], dtype=object)"
            ]
          },
          "metadata": {},
          "execution_count": 22
        }
      ]
    },
    {
      "cell_type": "code",
      "source": [
        "data.Additional_Info.replace('No Info','No Info',inplace=True)"
      ],
      "metadata": {
        "id": "kWRH-DTT1Nau"
      },
      "execution_count": null,
      "outputs": []
    },
    {
      "cell_type": "code",
      "source": [
        "data.isnull().sum()"
      ],
      "metadata": {
        "colab": {
          "base_uri": "https://localhost:8080/"
        },
        "id": "HsHlyVcC1ilW",
        "outputId": "a8260a37-25de-4863-8cc9-21a2cf5abd1b"
      },
      "execution_count": null,
      "outputs": [
        {
          "output_type": "execute_result",
          "data": {
            "text/plain": [
              "Airline                  0\n",
              "Date_of_Journey          0\n",
              "Source                   0\n",
              "Destination              0\n",
              "Route                    1\n",
              "Dep_Time                 0\n",
              "Arrival_Time             0\n",
              "Duration                 0\n",
              "Total_Stops              1\n",
              "Additional_Info          0\n",
              "Price                    0\n",
              "Date                     0\n",
              "Month                    0\n",
              "Year                     0\n",
              "City1                    1\n",
              "City2                10683\n",
              "City3                10683\n",
              "City4                10683\n",
              "City                 10683\n",
              "City6                10683\n",
              "Dep_Time_Hour            0\n",
              "Dep_Time_Mins            0\n",
              "Arrival_date          6348\n",
              "Time_of_Arrival          0\n",
              "Arrival_Time_Hour        0\n",
              "Arrival_Time_Mins        0\n",
              "Travel_Hours             0\n",
              "Travel Hours             0\n",
              "Travel_Mins           1032\n",
              "dtype: int64"
            ]
          },
          "metadata": {},
          "execution_count": 23
        }
      ]
    },
    {
      "cell_type": "code",
      "source": [
        "data.drop([\"City1\",\"City2\",\"City3\",\"City4\", \"city\", \"city6\"],axis=1,inplace=True\n",
        "data.drop([\"Dte_of_Journey\",\"Route\",\"Total_Stops\",\"Arrival_Time\",\"Travel_Mins\"],axis=1,inplace=True)"
      ],
      "metadata": {
        "id": "FH_mazlF2VHZ"
      },
      "execution_count": null,
      "outputs": []
    },
    {
      "cell_type": "code",
      "source": [
        "data['Date_of_Journey']fillna(data['Date']inplace=True)"
      ],
      "metadata": {
        "id": "75BsbGVp5YOT"
      },
      "execution_count": null,
      "outputs": []
    },
    {
      "cell_type": "code",
      "source": [
        "data['City1'].fillna('None', inplace=True)"
      ],
      "metadata": {
        "id": "_5ajLvs16dgv"
      },
      "execution_count": null,
      "outputs": []
    },
    {
      "cell_type": "code",
      "source": [
        "data['City2'].fillna('None', inplace=True)"
      ],
      "metadata": {
        "id": "KL0kULz17OjG"
      },
      "execution_count": null,
      "outputs": []
    },
    {
      "cell_type": "code",
      "source": [
        "data['City3'].fillna('None', inplace=True)"
      ],
      "metadata": {
        "id": "2SGTPRxx7SDF"
      },
      "execution_count": null,
      "outputs": []
    },
    {
      "cell_type": "code",
      "source": [
        "data['City4'].fillna('None', inplace=True)"
      ],
      "metadata": {
        "id": "LA2so9SQ7Uts"
      },
      "execution_count": null,
      "outputs": []
    },
    {
      "cell_type": "code",
      "source": [
        "data['City'].fillna('None', inplace=True)"
      ],
      "metadata": {
        "id": "2FmbXVNs8IKH"
      },
      "execution_count": null,
      "outputs": []
    },
    {
      "cell_type": "code",
      "source": [
        "data['City6'].fillna('None', inplace=True)"
      ],
      "metadata": {
        "id": "nUNe80pE8LoH"
      },
      "execution_count": null,
      "outputs": []
    },
    {
      "cell_type": "code",
      "source": [
        "data['Arrival_date'].fillna(data['Date'],inplace=True)"
      ],
      "metadata": {
        "id": "HViiipnb8PDL"
      },
      "execution_count": null,
      "outputs": []
    },
    {
      "cell_type": "code",
      "source": [
        "data['Travel Mins'].fillna(0,inplace=True)"
      ],
      "metadata": {
        "id": "c-8g0bmI9PRa"
      },
      "execution_count": null,
      "outputs": []
    },
    {
      "cell_type": "code",
      "source": [
        "data.info()"
      ],
      "metadata": {
        "colab": {
          "base_uri": "https://localhost:8080/"
        },
        "id": "nWBlKWrv9mo0",
        "outputId": "26ab067e-10f4-49b8-c7be-9715722e6941"
      },
      "execution_count": null,
      "outputs": [
        {
          "output_type": "stream",
          "name": "stdout",
          "text": [
            "<class 'pandas.core.frame.DataFrame'>\n",
            "RangeIndex: 10683 entries, 0 to 10682\n",
            "Data columns (total 29 columns):\n",
            " #   Column             Non-Null Count  Dtype \n",
            "---  ------             --------------  ----- \n",
            " 0   Airline            10683 non-null  object\n",
            " 1   Date_of_Journey    10683 non-null  object\n",
            " 2   Source             10683 non-null  object\n",
            " 3   Destination        10683 non-null  object\n",
            " 4   Route              10682 non-null  object\n",
            " 5   Dep_Time           10683 non-null  object\n",
            " 6   Arrival_Time       10683 non-null  object\n",
            " 7   Duration           10683 non-null  object\n",
            " 8   Total_Stops        10682 non-null  object\n",
            " 9   Additional_Info    10683 non-null  object\n",
            " 10  Price              10683 non-null  int64 \n",
            " 11  Date               10683 non-null  object\n",
            " 12  Month              10683 non-null  object\n",
            " 13  Year               10683 non-null  object\n",
            " 14  City1              10683 non-null  object\n",
            " 15  City2              10683 non-null  object\n",
            " 16  City3              10683 non-null  object\n",
            " 17  City4              10683 non-null  object\n",
            " 18  City               10683 non-null  object\n",
            " 19  City6              10683 non-null  object\n",
            " 20  Dep_Time_Hour      10683 non-null  object\n",
            " 21  Dep_Time_Mins      10683 non-null  object\n",
            " 22  Arrival_date       10683 non-null  object\n",
            " 23  Time_of_Arrival    10683 non-null  object\n",
            " 24  Arrival_Time_Hour  10683 non-null  object\n",
            " 25  Arrival_Time_Mins  10683 non-null  object\n",
            " 26  Travel_Hours       10683 non-null  object\n",
            " 27  Travel Hours       10683 non-null  object\n",
            " 28  Travel_Mins        9651 non-null   object\n",
            "dtypes: int64(1), object(28)\n",
            "memory usage: 2.4+ MB\n"
          ]
        }
      ]
    },
    {
      "cell_type": "code",
      "source": [
        "data.Date=data.Date.astype('int64')\n",
        "data.Month=data.Month.astype('int64')\n",
        "data.Year=data.Year.astype('int64')\n",
        "data.Dep_Time_Hour=data.Dep_Time_Hour.astype('int64')\n",
        "data.Dep_Time_Hour=data.Dep_Time_Hour.astype('int64') \n",
        "data.Dep_Time_Mins=data.Dep_Time_Mins.astype('int64')\n",
        "data.Arrival_date=data.Arrival_date.astype(\"int64\")\n",
        "data. Arrival_Time_Hour=data. Arrival_Time_Hour.astype('int64') \n",
        "data.Arrival_Time_Mins=data. Arrival_Time_Mins.astype('int64')  \n",
        "data.Travel_Mins=data.Travel_Mins.astype('int64')"
      ],
      "metadata": {
        "id": "yddfhH3B9wQt"
      },
      "execution_count": null,
      "outputs": []
    },
    {
      "cell_type": "code",
      "source": [
        "data[data['Travel_Hours']=='5m']"
      ],
      "metadata": {
        "colab": {
          "base_uri": "https://localhost:8080/",
          "height": 160
        },
        "id": "XvvZl8oQ_qrp",
        "outputId": "53a928ca-3370-4561-8caf-95b98edb22a1"
      },
      "execution_count": null,
      "outputs": [
        {
          "output_type": "execute_result",
          "data": {
            "text/plain": [
              "Empty DataFrame\n",
              "Columns: [Airline, Date_of_Journey, Source, Destination, Route, Dep_Time, Arrival_Time, Duration, Total_Stops, Additional_Info, Price, Date, Month, Year, City1, City2, City3, City4, City, City6, Dep_Time_Hour, Dep_Time_Mins, Arrival_date, Time_of_Arrival, Arrival_Time_Hour, Arrival_Time_Mins, Travel_Hours, Travel Hours, Travel_Mins ]\n",
              "Index: []\n",
              "\n",
              "[0 rows x 29 columns]"
            ],
            "text/html": [
              "\n",
              "  <div id=\"df-83024b9b-4ce5-4172-953c-3cd615a8cb4a\">\n",
              "    <div class=\"colab-df-container\">\n",
              "      <div>\n",
              "<style scoped>\n",
              "    .dataframe tbody tr th:only-of-type {\n",
              "        vertical-align: middle;\n",
              "    }\n",
              "\n",
              "    .dataframe tbody tr th {\n",
              "        vertical-align: top;\n",
              "    }\n",
              "\n",
              "    .dataframe thead th {\n",
              "        text-align: right;\n",
              "    }\n",
              "</style>\n",
              "<table border=\"1\" class=\"dataframe\">\n",
              "  <thead>\n",
              "    <tr style=\"text-align: right;\">\n",
              "      <th></th>\n",
              "      <th>Airline</th>\n",
              "      <th>Date_of_Journey</th>\n",
              "      <th>Source</th>\n",
              "      <th>Destination</th>\n",
              "      <th>Route</th>\n",
              "      <th>Dep_Time</th>\n",
              "      <th>Arrival_Time</th>\n",
              "      <th>Duration</th>\n",
              "      <th>Total_Stops</th>\n",
              "      <th>Additional_Info</th>\n",
              "      <th>...</th>\n",
              "      <th>City6</th>\n",
              "      <th>Dep_Time_Hour</th>\n",
              "      <th>Dep_Time_Mins</th>\n",
              "      <th>Arrival_date</th>\n",
              "      <th>Time_of_Arrival</th>\n",
              "      <th>Arrival_Time_Hour</th>\n",
              "      <th>Arrival_Time_Mins</th>\n",
              "      <th>Travel_Hours</th>\n",
              "      <th>Travel Hours</th>\n",
              "      <th>Travel_Mins</th>\n",
              "    </tr>\n",
              "  </thead>\n",
              "  <tbody>\n",
              "  </tbody>\n",
              "</table>\n",
              "<p>0 rows × 29 columns</p>\n",
              "</div>\n",
              "      <button class=\"colab-df-convert\" onclick=\"convertToInteractive('df-83024b9b-4ce5-4172-953c-3cd615a8cb4a')\"\n",
              "              title=\"Convert this dataframe to an interactive table.\"\n",
              "              style=\"display:none;\">\n",
              "        \n",
              "  <svg xmlns=\"http://www.w3.org/2000/svg\" height=\"24px\"viewBox=\"0 0 24 24\"\n",
              "       width=\"24px\">\n",
              "    <path d=\"M0 0h24v24H0V0z\" fill=\"none\"/>\n",
              "    <path d=\"M18.56 5.44l.94 2.06.94-2.06 2.06-.94-2.06-.94-.94-2.06-.94 2.06-2.06.94zm-11 1L8.5 8.5l.94-2.06 2.06-.94-2.06-.94L8.5 2.5l-.94 2.06-2.06.94zm10 10l.94 2.06.94-2.06 2.06-.94-2.06-.94-.94-2.06-.94 2.06-2.06.94z\"/><path d=\"M17.41 7.96l-1.37-1.37c-.4-.4-.92-.59-1.43-.59-.52 0-1.04.2-1.43.59L10.3 9.45l-7.72 7.72c-.78.78-.78 2.05 0 2.83L4 21.41c.39.39.9.59 1.41.59.51 0 1.02-.2 1.41-.59l7.78-7.78 2.81-2.81c.8-.78.8-2.07 0-2.86zM5.41 20L4 18.59l7.72-7.72 1.47 1.35L5.41 20z\"/>\n",
              "  </svg>\n",
              "      </button>\n",
              "      \n",
              "  <style>\n",
              "    .colab-df-container {\n",
              "      display:flex;\n",
              "      flex-wrap:wrap;\n",
              "      gap: 12px;\n",
              "    }\n",
              "\n",
              "    .colab-df-convert {\n",
              "      background-color: #E8F0FE;\n",
              "      border: none;\n",
              "      border-radius: 50%;\n",
              "      cursor: pointer;\n",
              "      display: none;\n",
              "      fill: #1967D2;\n",
              "      height: 32px;\n",
              "      padding: 0 0 0 0;\n",
              "      width: 32px;\n",
              "    }\n",
              "\n",
              "    .colab-df-convert:hover {\n",
              "      background-color: #E2EBFA;\n",
              "      box-shadow: 0px 1px 2px rgba(60, 64, 67, 0.3), 0px 1px 3px 1px rgba(60, 64, 67, 0.15);\n",
              "      fill: #174EA6;\n",
              "    }\n",
              "\n",
              "    [theme=dark] .colab-df-convert {\n",
              "      background-color: #3B4455;\n",
              "      fill: #D2E3FC;\n",
              "    }\n",
              "\n",
              "    [theme=dark] .colab-df-convert:hover {\n",
              "      background-color: #434B5C;\n",
              "      box-shadow: 0px 1px 3px 1px rgba(0, 0, 0, 0.15);\n",
              "      filter: drop-shadow(0px 1px 2px rgba(0, 0, 0, 0.3));\n",
              "      fill: #FFFFFF;\n",
              "    }\n",
              "  </style>\n",
              "\n",
              "      <script>\n",
              "        const buttonEl =\n",
              "          document.querySelector('#df-83024b9b-4ce5-4172-953c-3cd615a8cb4a button.colab-df-convert');\n",
              "        buttonEl.style.display =\n",
              "          google.colab.kernel.accessAllowed ? 'block' : 'none';\n",
              "\n",
              "        async function convertToInteractive(key) {\n",
              "          const element = document.querySelector('#df-83024b9b-4ce5-4172-953c-3cd615a8cb4a');\n",
              "          const dataTable =\n",
              "            await google.colab.kernel.invokeFunction('convertToInteractive',\n",
              "                                                     [key], {});\n",
              "          if (!dataTable) return;\n",
              "\n",
              "          const docLinkHtml = 'Like what you see? Visit the ' +\n",
              "            '<a target=\"_blank\" href=https://colab.research.google.com/notebooks/data_table.ipynb>data table notebook</a>'\n",
              "            + ' to learn more about interactive tables.';\n",
              "          element.innerHTML = '';\n",
              "          dataTable['output_type'] = 'display_data';\n",
              "          await google.colab.output.renderOutput(dataTable, element);\n",
              "          const docLink = document.createElement('div');\n",
              "          docLink.innerHTML = docLinkHtml;\n",
              "          element.appendChild(docLink);\n",
              "        }\n",
              "      </script>\n",
              "    </div>\n",
              "  </div>\n",
              "  "
            ]
          },
          "metadata": {},
          "execution_count": 81
        }
      ]
    },
    {
      "cell_type": "code",
      "source": [
        "data.drop(index=6474,inplace=True,axis=0)"
      ],
      "metadata": {
        "id": "g70qnj1uDDm5"
      },
      "execution_count": null,
      "outputs": []
    },
    {
      "cell_type": "code",
      "source": [
        "data.Travel_Hours=data.Travel_Hours.astype('int64')"
      ],
      "metadata": {
        "id": "wPbBbl4HDhMp"
      },
      "execution_count": null,
      "outputs": []
    },
    {
      "cell_type": "code",
      "source": [
        "categorical=['Airline', 'Source','Destination', 'Additional_Info','City']\n",
        "\n",
        "numerical=['Total_Stops', 'Date', 'Month', 'Year', 'Dep_Time_Hour', 'Dep_Time_ Mins', 'Arrival_date', 'Arrival_Time_Hour', 'Arrival_Time_Mins', 'Travel_Hours', 'Travel_Mins']"
      ],
      "metadata": {
        "id": "4nUeSrZ7EsDN"
      },
      "execution_count": null,
      "outputs": []
    },
    {
      "cell_type": "code",
      "source": [
        "from sklearn.preprocessing import LabelEncoder \n",
        "le=LabelEncoder()"
      ],
      "metadata": {
        "id": "Xv0UikFnFzy8"
      },
      "execution_count": null,
      "outputs": []
    },
    {
      "cell_type": "code",
      "source": [
        "data.Airline=le.fit_transform(data.Airline)\n",
        "\n",
        "data.Source=le.fit_transform(data.Source)\n",
        "\n",
        "data.Destination=le.fit_transform(data. Destination)\n",
        "\n",
        "data.Total_Stops=le.fit_transform(data. Total_Stops)\n",
        "\n",
        "data.City1=le.fit_transform(data.City1)\n",
        "\n",
        "data.City2=le.fit_transform(data.City2) \n",
        "\n",
        "data.City3=le.fit_transform(data.City3)\n",
        "\n",
        "data.Additional_Info=le.fit_transform(data. Additional_Info)\n",
        "\n",
        "data.head()"
      ],
      "metadata": {
        "colab": {
          "base_uri": "https://localhost:8080/",
          "height": 699
        },
        "id": "QIaZYHRZGQUU",
        "outputId": "e7b9aeff-7239-4500-8ef5-2e9674e9a39d"
      },
      "execution_count": null,
      "outputs": [
        {
          "output_type": "execute_result",
          "data": {
            "text/plain": [
              "   Airline Date_of_Journey  Source  Destination                    Route  \\\n",
              "0        3      24/03/2019       0            5              [BLR → DEL]   \n",
              "1        1       1/05/2019       3            0  [CCU → IXR → BBI → BLR]   \n",
              "2        4       9/06/2019       2            1  [DEL → LKO → BOM → COK]   \n",
              "3        3      12/05/2019       3            0        [CCU → NAG → BLR]   \n",
              "4        3      01/03/2019       0            5        [BLR → NAG → DEL]   \n",
              "\n",
              "   Dep_Time      Arrival_Time   Duration  Total_Stops  Additional_Info  ...  \\\n",
              "0  [22, 20]  [01:10, 22, Mar]  [2h, 50m]            4                8  ...   \n",
              "1  [05, 50]           [13:15]  [7h, 25m]            1                8  ...   \n",
              "2  [09, 25]  [04:25, 10, Jun]      [19h]            1                8  ...   \n",
              "3  [18, 05]           [23:30]  [5h, 25m]            0                8  ...   \n",
              "4  [16, 50]           [21:35]  [4h, 45m]            0                8  ...   \n",
              "\n",
              "   City6  Dep_Time_Hour Dep_Time_Mins Arrival_date  Time_of_Arrival  \\\n",
              "0   None             22            20           22         [01, 10]   \n",
              "1   None             05            50            1         [13, 15]   \n",
              "2   None             09            25           10         [04, 25]   \n",
              "3   None             18            05            1         [23, 30]   \n",
              "4   None             16            50            0         [21, 35]   \n",
              "\n",
              "   Arrival_Time_Hour  Arrival_Time_Mins Travel_Hours Travel Hours Travel_Mins   \n",
              "0                 01                 10        [2, ]            2          50m  \n",
              "1                 13                 15        [7, ]            7          25m  \n",
              "2                 04                 25       [19, ]           19          NaN  \n",
              "3                 23                 30        [5, ]            5          25m  \n",
              "4                 21                 35        [4, ]            4          45m  \n",
              "\n",
              "[5 rows x 29 columns]"
            ],
            "text/html": [
              "\n",
              "  <div id=\"df-d87a0213-9a9e-4408-a884-9deb3de1b7bb\">\n",
              "    <div class=\"colab-df-container\">\n",
              "      <div>\n",
              "<style scoped>\n",
              "    .dataframe tbody tr th:only-of-type {\n",
              "        vertical-align: middle;\n",
              "    }\n",
              "\n",
              "    .dataframe tbody tr th {\n",
              "        vertical-align: top;\n",
              "    }\n",
              "\n",
              "    .dataframe thead th {\n",
              "        text-align: right;\n",
              "    }\n",
              "</style>\n",
              "<table border=\"1\" class=\"dataframe\">\n",
              "  <thead>\n",
              "    <tr style=\"text-align: right;\">\n",
              "      <th></th>\n",
              "      <th>Airline</th>\n",
              "      <th>Date_of_Journey</th>\n",
              "      <th>Source</th>\n",
              "      <th>Destination</th>\n",
              "      <th>Route</th>\n",
              "      <th>Dep_Time</th>\n",
              "      <th>Arrival_Time</th>\n",
              "      <th>Duration</th>\n",
              "      <th>Total_Stops</th>\n",
              "      <th>Additional_Info</th>\n",
              "      <th>...</th>\n",
              "      <th>City6</th>\n",
              "      <th>Dep_Time_Hour</th>\n",
              "      <th>Dep_Time_Mins</th>\n",
              "      <th>Arrival_date</th>\n",
              "      <th>Time_of_Arrival</th>\n",
              "      <th>Arrival_Time_Hour</th>\n",
              "      <th>Arrival_Time_Mins</th>\n",
              "      <th>Travel_Hours</th>\n",
              "      <th>Travel Hours</th>\n",
              "      <th>Travel_Mins</th>\n",
              "    </tr>\n",
              "  </thead>\n",
              "  <tbody>\n",
              "    <tr>\n",
              "      <th>0</th>\n",
              "      <td>3</td>\n",
              "      <td>24/03/2019</td>\n",
              "      <td>0</td>\n",
              "      <td>5</td>\n",
              "      <td>[BLR → DEL]</td>\n",
              "      <td>[22, 20]</td>\n",
              "      <td>[01:10, 22, Mar]</td>\n",
              "      <td>[2h, 50m]</td>\n",
              "      <td>4</td>\n",
              "      <td>8</td>\n",
              "      <td>...</td>\n",
              "      <td>None</td>\n",
              "      <td>22</td>\n",
              "      <td>20</td>\n",
              "      <td>22</td>\n",
              "      <td>[01, 10]</td>\n",
              "      <td>01</td>\n",
              "      <td>10</td>\n",
              "      <td>[2, ]</td>\n",
              "      <td>2</td>\n",
              "      <td>50m</td>\n",
              "    </tr>\n",
              "    <tr>\n",
              "      <th>1</th>\n",
              "      <td>1</td>\n",
              "      <td>1/05/2019</td>\n",
              "      <td>3</td>\n",
              "      <td>0</td>\n",
              "      <td>[CCU → IXR → BBI → BLR]</td>\n",
              "      <td>[05, 50]</td>\n",
              "      <td>[13:15]</td>\n",
              "      <td>[7h, 25m]</td>\n",
              "      <td>1</td>\n",
              "      <td>8</td>\n",
              "      <td>...</td>\n",
              "      <td>None</td>\n",
              "      <td>05</td>\n",
              "      <td>50</td>\n",
              "      <td>1</td>\n",
              "      <td>[13, 15]</td>\n",
              "      <td>13</td>\n",
              "      <td>15</td>\n",
              "      <td>[7, ]</td>\n",
              "      <td>7</td>\n",
              "      <td>25m</td>\n",
              "    </tr>\n",
              "    <tr>\n",
              "      <th>2</th>\n",
              "      <td>4</td>\n",
              "      <td>9/06/2019</td>\n",
              "      <td>2</td>\n",
              "      <td>1</td>\n",
              "      <td>[DEL → LKO → BOM → COK]</td>\n",
              "      <td>[09, 25]</td>\n",
              "      <td>[04:25, 10, Jun]</td>\n",
              "      <td>[19h]</td>\n",
              "      <td>1</td>\n",
              "      <td>8</td>\n",
              "      <td>...</td>\n",
              "      <td>None</td>\n",
              "      <td>09</td>\n",
              "      <td>25</td>\n",
              "      <td>10</td>\n",
              "      <td>[04, 25]</td>\n",
              "      <td>04</td>\n",
              "      <td>25</td>\n",
              "      <td>[19, ]</td>\n",
              "      <td>19</td>\n",
              "      <td>NaN</td>\n",
              "    </tr>\n",
              "    <tr>\n",
              "      <th>3</th>\n",
              "      <td>3</td>\n",
              "      <td>12/05/2019</td>\n",
              "      <td>3</td>\n",
              "      <td>0</td>\n",
              "      <td>[CCU → NAG → BLR]</td>\n",
              "      <td>[18, 05]</td>\n",
              "      <td>[23:30]</td>\n",
              "      <td>[5h, 25m]</td>\n",
              "      <td>0</td>\n",
              "      <td>8</td>\n",
              "      <td>...</td>\n",
              "      <td>None</td>\n",
              "      <td>18</td>\n",
              "      <td>05</td>\n",
              "      <td>1</td>\n",
              "      <td>[23, 30]</td>\n",
              "      <td>23</td>\n",
              "      <td>30</td>\n",
              "      <td>[5, ]</td>\n",
              "      <td>5</td>\n",
              "      <td>25m</td>\n",
              "    </tr>\n",
              "    <tr>\n",
              "      <th>4</th>\n",
              "      <td>3</td>\n",
              "      <td>01/03/2019</td>\n",
              "      <td>0</td>\n",
              "      <td>5</td>\n",
              "      <td>[BLR → NAG → DEL]</td>\n",
              "      <td>[16, 50]</td>\n",
              "      <td>[21:35]</td>\n",
              "      <td>[4h, 45m]</td>\n",
              "      <td>0</td>\n",
              "      <td>8</td>\n",
              "      <td>...</td>\n",
              "      <td>None</td>\n",
              "      <td>16</td>\n",
              "      <td>50</td>\n",
              "      <td>0</td>\n",
              "      <td>[21, 35]</td>\n",
              "      <td>21</td>\n",
              "      <td>35</td>\n",
              "      <td>[4, ]</td>\n",
              "      <td>4</td>\n",
              "      <td>45m</td>\n",
              "    </tr>\n",
              "  </tbody>\n",
              "</table>\n",
              "<p>5 rows × 29 columns</p>\n",
              "</div>\n",
              "      <button class=\"colab-df-convert\" onclick=\"convertToInteractive('df-d87a0213-9a9e-4408-a884-9deb3de1b7bb')\"\n",
              "              title=\"Convert this dataframe to an interactive table.\"\n",
              "              style=\"display:none;\">\n",
              "        \n",
              "  <svg xmlns=\"http://www.w3.org/2000/svg\" height=\"24px\"viewBox=\"0 0 24 24\"\n",
              "       width=\"24px\">\n",
              "    <path d=\"M0 0h24v24H0V0z\" fill=\"none\"/>\n",
              "    <path d=\"M18.56 5.44l.94 2.06.94-2.06 2.06-.94-2.06-.94-.94-2.06-.94 2.06-2.06.94zm-11 1L8.5 8.5l.94-2.06 2.06-.94-2.06-.94L8.5 2.5l-.94 2.06-2.06.94zm10 10l.94 2.06.94-2.06 2.06-.94-2.06-.94-.94-2.06-.94 2.06-2.06.94z\"/><path d=\"M17.41 7.96l-1.37-1.37c-.4-.4-.92-.59-1.43-.59-.52 0-1.04.2-1.43.59L10.3 9.45l-7.72 7.72c-.78.78-.78 2.05 0 2.83L4 21.41c.39.39.9.59 1.41.59.51 0 1.02-.2 1.41-.59l7.78-7.78 2.81-2.81c.8-.78.8-2.07 0-2.86zM5.41 20L4 18.59l7.72-7.72 1.47 1.35L5.41 20z\"/>\n",
              "  </svg>\n",
              "      </button>\n",
              "      \n",
              "  <style>\n",
              "    .colab-df-container {\n",
              "      display:flex;\n",
              "      flex-wrap:wrap;\n",
              "      gap: 12px;\n",
              "    }\n",
              "\n",
              "    .colab-df-convert {\n",
              "      background-color: #E8F0FE;\n",
              "      border: none;\n",
              "      border-radius: 50%;\n",
              "      cursor: pointer;\n",
              "      display: none;\n",
              "      fill: #1967D2;\n",
              "      height: 32px;\n",
              "      padding: 0 0 0 0;\n",
              "      width: 32px;\n",
              "    }\n",
              "\n",
              "    .colab-df-convert:hover {\n",
              "      background-color: #E2EBFA;\n",
              "      box-shadow: 0px 1px 2px rgba(60, 64, 67, 0.3), 0px 1px 3px 1px rgba(60, 64, 67, 0.15);\n",
              "      fill: #174EA6;\n",
              "    }\n",
              "\n",
              "    [theme=dark] .colab-df-convert {\n",
              "      background-color: #3B4455;\n",
              "      fill: #D2E3FC;\n",
              "    }\n",
              "\n",
              "    [theme=dark] .colab-df-convert:hover {\n",
              "      background-color: #434B5C;\n",
              "      box-shadow: 0px 1px 3px 1px rgba(0, 0, 0, 0.15);\n",
              "      filter: drop-shadow(0px 1px 2px rgba(0, 0, 0, 0.3));\n",
              "      fill: #FFFFFF;\n",
              "    }\n",
              "  </style>\n",
              "\n",
              "      <script>\n",
              "        const buttonEl =\n",
              "          document.querySelector('#df-d87a0213-9a9e-4408-a884-9deb3de1b7bb button.colab-df-convert');\n",
              "        buttonEl.style.display =\n",
              "          google.colab.kernel.accessAllowed ? 'block' : 'none';\n",
              "\n",
              "        async function convertToInteractive(key) {\n",
              "          const element = document.querySelector('#df-d87a0213-9a9e-4408-a884-9deb3de1b7bb');\n",
              "          const dataTable =\n",
              "            await google.colab.kernel.invokeFunction('convertToInteractive',\n",
              "                                                     [key], {});\n",
              "          if (!dataTable) return;\n",
              "\n",
              "          const docLinkHtml = 'Like what you see? Visit the ' +\n",
              "            '<a target=\"_blank\" href=https://colab.research.google.com/notebooks/data_table.ipynb>data table notebook</a>'\n",
              "            + ' to learn more about interactive tables.';\n",
              "          element.innerHTML = '';\n",
              "          dataTable['output_type'] = 'display_data';\n",
              "          await google.colab.output.renderOutput(dataTable, element);\n",
              "          const docLink = document.createElement('div');\n",
              "          docLink.innerHTML = docLinkHtml;\n",
              "          element.appendChild(docLink);\n",
              "        }\n",
              "      </script>\n",
              "    </div>\n",
              "  </div>\n",
              "  "
            ]
          },
          "metadata": {},
          "execution_count": 40
        }
      ]
    },
    {
      "cell_type": "code",
      "source": [
        "data=data(['Airline', 'Source', 'Destination', 'Date', 'Month', 'Year', 'Dep_Time_Hour', 'Dep_Time_Mins', 'Arrival_date', 'Arrival_Time_Hour','Arrival_Time_Mins','Travel_Hours','Travel_Mins'])"
      ],
      "metadata": {
        "id": "Dqj74UTyG8Wg"
      },
      "execution_count": null,
      "outputs": []
    },
    {
      "cell_type": "code",
      "source": [
        "data.head()"
      ],
      "metadata": {
        "colab": {
          "base_uri": "https://localhost:8080/",
          "height": 699
        },
        "id": "IDqomjl_KKye",
        "outputId": "9d685f7e-a052-4d5e-cc8f-faa69e45fd9b"
      },
      "execution_count": null,
      "outputs": [
        {
          "output_type": "execute_result",
          "data": {
            "text/plain": [
              "   Airline Date_of_Journey  Source  Destination                    Route  \\\n",
              "0        3      24/03/2019       0            5              [BLR → DEL]   \n",
              "1        1       1/05/2019       3            0  [CCU → IXR → BBI → BLR]   \n",
              "2        4       9/06/2019       2            1  [DEL → LKO → BOM → COK]   \n",
              "3        3      12/05/2019       3            0        [CCU → NAG → BLR]   \n",
              "4        3      01/03/2019       0            5        [BLR → NAG → DEL]   \n",
              "\n",
              "   Dep_Time      Arrival_Time   Duration  Total_Stops  Additional_Info  ...  \\\n",
              "0  [22, 20]  [01:10, 22, Mar]  [2h, 50m]            4                8  ...   \n",
              "1  [05, 50]           [13:15]  [7h, 25m]            1                8  ...   \n",
              "2  [09, 25]  [04:25, 10, Jun]      [19h]            1                8  ...   \n",
              "3  [18, 05]           [23:30]  [5h, 25m]            0                8  ...   \n",
              "4  [16, 50]           [21:35]  [4h, 45m]            0                8  ...   \n",
              "\n",
              "   City6  Dep_Time_Hour Dep_Time_Mins Arrival_date  Time_of_Arrival  \\\n",
              "0   None             22            20           22         [01, 10]   \n",
              "1   None             05            50            1         [13, 15]   \n",
              "2   None             09            25           10         [04, 25]   \n",
              "3   None             18            05            1         [23, 30]   \n",
              "4   None             16            50            0         [21, 35]   \n",
              "\n",
              "   Arrival_Time_Hour  Arrival_Time_Mins Travel_Hours Travel Hours Travel_Mins   \n",
              "0                 01                 10        [2, ]            2          50m  \n",
              "1                 13                 15        [7, ]            7          25m  \n",
              "2                 04                 25       [19, ]           19          NaN  \n",
              "3                 23                 30        [5, ]            5          25m  \n",
              "4                 21                 35        [4, ]            4          45m  \n",
              "\n",
              "[5 rows x 29 columns]"
            ],
            "text/html": [
              "\n",
              "  <div id=\"df-06b572df-96e0-4263-859d-0a6a612e09b1\">\n",
              "    <div class=\"colab-df-container\">\n",
              "      <div>\n",
              "<style scoped>\n",
              "    .dataframe tbody tr th:only-of-type {\n",
              "        vertical-align: middle;\n",
              "    }\n",
              "\n",
              "    .dataframe tbody tr th {\n",
              "        vertical-align: top;\n",
              "    }\n",
              "\n",
              "    .dataframe thead th {\n",
              "        text-align: right;\n",
              "    }\n",
              "</style>\n",
              "<table border=\"1\" class=\"dataframe\">\n",
              "  <thead>\n",
              "    <tr style=\"text-align: right;\">\n",
              "      <th></th>\n",
              "      <th>Airline</th>\n",
              "      <th>Date_of_Journey</th>\n",
              "      <th>Source</th>\n",
              "      <th>Destination</th>\n",
              "      <th>Route</th>\n",
              "      <th>Dep_Time</th>\n",
              "      <th>Arrival_Time</th>\n",
              "      <th>Duration</th>\n",
              "      <th>Total_Stops</th>\n",
              "      <th>Additional_Info</th>\n",
              "      <th>...</th>\n",
              "      <th>City6</th>\n",
              "      <th>Dep_Time_Hour</th>\n",
              "      <th>Dep_Time_Mins</th>\n",
              "      <th>Arrival_date</th>\n",
              "      <th>Time_of_Arrival</th>\n",
              "      <th>Arrival_Time_Hour</th>\n",
              "      <th>Arrival_Time_Mins</th>\n",
              "      <th>Travel_Hours</th>\n",
              "      <th>Travel Hours</th>\n",
              "      <th>Travel_Mins</th>\n",
              "    </tr>\n",
              "  </thead>\n",
              "  <tbody>\n",
              "    <tr>\n",
              "      <th>0</th>\n",
              "      <td>3</td>\n",
              "      <td>24/03/2019</td>\n",
              "      <td>0</td>\n",
              "      <td>5</td>\n",
              "      <td>[BLR → DEL]</td>\n",
              "      <td>[22, 20]</td>\n",
              "      <td>[01:10, 22, Mar]</td>\n",
              "      <td>[2h, 50m]</td>\n",
              "      <td>4</td>\n",
              "      <td>8</td>\n",
              "      <td>...</td>\n",
              "      <td>None</td>\n",
              "      <td>22</td>\n",
              "      <td>20</td>\n",
              "      <td>22</td>\n",
              "      <td>[01, 10]</td>\n",
              "      <td>01</td>\n",
              "      <td>10</td>\n",
              "      <td>[2, ]</td>\n",
              "      <td>2</td>\n",
              "      <td>50m</td>\n",
              "    </tr>\n",
              "    <tr>\n",
              "      <th>1</th>\n",
              "      <td>1</td>\n",
              "      <td>1/05/2019</td>\n",
              "      <td>3</td>\n",
              "      <td>0</td>\n",
              "      <td>[CCU → IXR → BBI → BLR]</td>\n",
              "      <td>[05, 50]</td>\n",
              "      <td>[13:15]</td>\n",
              "      <td>[7h, 25m]</td>\n",
              "      <td>1</td>\n",
              "      <td>8</td>\n",
              "      <td>...</td>\n",
              "      <td>None</td>\n",
              "      <td>05</td>\n",
              "      <td>50</td>\n",
              "      <td>1</td>\n",
              "      <td>[13, 15]</td>\n",
              "      <td>13</td>\n",
              "      <td>15</td>\n",
              "      <td>[7, ]</td>\n",
              "      <td>7</td>\n",
              "      <td>25m</td>\n",
              "    </tr>\n",
              "    <tr>\n",
              "      <th>2</th>\n",
              "      <td>4</td>\n",
              "      <td>9/06/2019</td>\n",
              "      <td>2</td>\n",
              "      <td>1</td>\n",
              "      <td>[DEL → LKO → BOM → COK]</td>\n",
              "      <td>[09, 25]</td>\n",
              "      <td>[04:25, 10, Jun]</td>\n",
              "      <td>[19h]</td>\n",
              "      <td>1</td>\n",
              "      <td>8</td>\n",
              "      <td>...</td>\n",
              "      <td>None</td>\n",
              "      <td>09</td>\n",
              "      <td>25</td>\n",
              "      <td>10</td>\n",
              "      <td>[04, 25]</td>\n",
              "      <td>04</td>\n",
              "      <td>25</td>\n",
              "      <td>[19, ]</td>\n",
              "      <td>19</td>\n",
              "      <td>NaN</td>\n",
              "    </tr>\n",
              "    <tr>\n",
              "      <th>3</th>\n",
              "      <td>3</td>\n",
              "      <td>12/05/2019</td>\n",
              "      <td>3</td>\n",
              "      <td>0</td>\n",
              "      <td>[CCU → NAG → BLR]</td>\n",
              "      <td>[18, 05]</td>\n",
              "      <td>[23:30]</td>\n",
              "      <td>[5h, 25m]</td>\n",
              "      <td>0</td>\n",
              "      <td>8</td>\n",
              "      <td>...</td>\n",
              "      <td>None</td>\n",
              "      <td>18</td>\n",
              "      <td>05</td>\n",
              "      <td>1</td>\n",
              "      <td>[23, 30]</td>\n",
              "      <td>23</td>\n",
              "      <td>30</td>\n",
              "      <td>[5, ]</td>\n",
              "      <td>5</td>\n",
              "      <td>25m</td>\n",
              "    </tr>\n",
              "    <tr>\n",
              "      <th>4</th>\n",
              "      <td>3</td>\n",
              "      <td>01/03/2019</td>\n",
              "      <td>0</td>\n",
              "      <td>5</td>\n",
              "      <td>[BLR → NAG → DEL]</td>\n",
              "      <td>[16, 50]</td>\n",
              "      <td>[21:35]</td>\n",
              "      <td>[4h, 45m]</td>\n",
              "      <td>0</td>\n",
              "      <td>8</td>\n",
              "      <td>...</td>\n",
              "      <td>None</td>\n",
              "      <td>16</td>\n",
              "      <td>50</td>\n",
              "      <td>0</td>\n",
              "      <td>[21, 35]</td>\n",
              "      <td>21</td>\n",
              "      <td>35</td>\n",
              "      <td>[4, ]</td>\n",
              "      <td>4</td>\n",
              "      <td>45m</td>\n",
              "    </tr>\n",
              "  </tbody>\n",
              "</table>\n",
              "<p>5 rows × 29 columns</p>\n",
              "</div>\n",
              "      <button class=\"colab-df-convert\" onclick=\"convertToInteractive('df-06b572df-96e0-4263-859d-0a6a612e09b1')\"\n",
              "              title=\"Convert this dataframe to an interactive table.\"\n",
              "              style=\"display:none;\">\n",
              "        \n",
              "  <svg xmlns=\"http://www.w3.org/2000/svg\" height=\"24px\"viewBox=\"0 0 24 24\"\n",
              "       width=\"24px\">\n",
              "    <path d=\"M0 0h24v24H0V0z\" fill=\"none\"/>\n",
              "    <path d=\"M18.56 5.44l.94 2.06.94-2.06 2.06-.94-2.06-.94-.94-2.06-.94 2.06-2.06.94zm-11 1L8.5 8.5l.94-2.06 2.06-.94-2.06-.94L8.5 2.5l-.94 2.06-2.06.94zm10 10l.94 2.06.94-2.06 2.06-.94-2.06-.94-.94-2.06-.94 2.06-2.06.94z\"/><path d=\"M17.41 7.96l-1.37-1.37c-.4-.4-.92-.59-1.43-.59-.52 0-1.04.2-1.43.59L10.3 9.45l-7.72 7.72c-.78.78-.78 2.05 0 2.83L4 21.41c.39.39.9.59 1.41.59.51 0 1.02-.2 1.41-.59l7.78-7.78 2.81-2.81c.8-.78.8-2.07 0-2.86zM5.41 20L4 18.59l7.72-7.72 1.47 1.35L5.41 20z\"/>\n",
              "  </svg>\n",
              "      </button>\n",
              "      \n",
              "  <style>\n",
              "    .colab-df-container {\n",
              "      display:flex;\n",
              "      flex-wrap:wrap;\n",
              "      gap: 12px;\n",
              "    }\n",
              "\n",
              "    .colab-df-convert {\n",
              "      background-color: #E8F0FE;\n",
              "      border: none;\n",
              "      border-radius: 50%;\n",
              "      cursor: pointer;\n",
              "      display: none;\n",
              "      fill: #1967D2;\n",
              "      height: 32px;\n",
              "      padding: 0 0 0 0;\n",
              "      width: 32px;\n",
              "    }\n",
              "\n",
              "    .colab-df-convert:hover {\n",
              "      background-color: #E2EBFA;\n",
              "      box-shadow: 0px 1px 2px rgba(60, 64, 67, 0.3), 0px 1px 3px 1px rgba(60, 64, 67, 0.15);\n",
              "      fill: #174EA6;\n",
              "    }\n",
              "\n",
              "    [theme=dark] .colab-df-convert {\n",
              "      background-color: #3B4455;\n",
              "      fill: #D2E3FC;\n",
              "    }\n",
              "\n",
              "    [theme=dark] .colab-df-convert:hover {\n",
              "      background-color: #434B5C;\n",
              "      box-shadow: 0px 1px 3px 1px rgba(0, 0, 0, 0.15);\n",
              "      filter: drop-shadow(0px 1px 2px rgba(0, 0, 0, 0.3));\n",
              "      fill: #FFFFFF;\n",
              "    }\n",
              "  </style>\n",
              "\n",
              "      <script>\n",
              "        const buttonEl =\n",
              "          document.querySelector('#df-06b572df-96e0-4263-859d-0a6a612e09b1 button.colab-df-convert');\n",
              "        buttonEl.style.display =\n",
              "          google.colab.kernel.accessAllowed ? 'block' : 'none';\n",
              "\n",
              "        async function convertToInteractive(key) {\n",
              "          const element = document.querySelector('#df-06b572df-96e0-4263-859d-0a6a612e09b1');\n",
              "          const dataTable =\n",
              "            await google.colab.kernel.invokeFunction('convertToInteractive',\n",
              "                                                     [key], {});\n",
              "          if (!dataTable) return;\n",
              "\n",
              "          const docLinkHtml = 'Like what you see? Visit the ' +\n",
              "            '<a target=\"_blank\" href=https://colab.research.google.com/notebooks/data_table.ipynb>data table notebook</a>'\n",
              "            + ' to learn more about interactive tables.';\n",
              "          element.innerHTML = '';\n",
              "          dataTable['output_type'] = 'display_data';\n",
              "          await google.colab.output.renderOutput(dataTable, element);\n",
              "          const docLink = document.createElement('div');\n",
              "          docLink.innerHTML = docLinkHtml;\n",
              "          element.appendChild(docLink);\n",
              "        }\n",
              "      </script>\n",
              "    </div>\n",
              "  </div>\n",
              "  "
            ]
          },
          "metadata": {},
          "execution_count": 41
        }
      ]
    },
    {
      "cell_type": "code",
      "source": [
        "data.describe()"
      ],
      "metadata": {
        "colab": {
          "base_uri": "https://localhost:8080/",
          "height": 364
        },
        "id": "ulK-AVMMKRTc",
        "outputId": "516ab33f-3995-49b1-9196-53aa325c139c"
      },
      "execution_count": null,
      "outputs": [
        {
          "output_type": "execute_result",
          "data": {
            "text/plain": [
              "            Airline        Source   Destination   Total_Stops  \\\n",
              "count  10682.000000  10682.000000  10682.000000  10682.000000   \n",
              "mean       3.966205      1.952069      1.435967      1.458622   \n",
              "std        2.352090      1.177110      1.474773      1.806640   \n",
              "min        0.000000      0.000000      0.000000      0.000000   \n",
              "25%        3.000000      2.000000      0.000000      0.000000   \n",
              "50%        4.000000      2.000000      1.000000      0.000000   \n",
              "75%        4.000000      3.000000      2.000000      4.000000   \n",
              "max       11.000000      4.000000      5.000000      5.000000   \n",
              "\n",
              "       Additional_Info         Price          Date         City1    City2  \\\n",
              "count     10682.000000  10682.000000  10682.000000  10682.000000  10682.0   \n",
              "mean          7.392998   9086.292735      2.941678     74.827748      0.0   \n",
              "std           1.214254   4610.885695      2.732095     36.731657      0.0   \n",
              "min           0.000000   1759.000000      0.000000      0.000000      0.0   \n",
              "25%           8.000000   5277.000000      1.000000     48.000000      0.0   \n",
              "50%           8.000000   8372.000000      2.000000     73.000000      0.0   \n",
              "75%           8.000000  12373.000000      3.000000    104.000000      0.0   \n",
              "max           9.000000  79512.000000      9.000000    128.000000      0.0   \n",
              "\n",
              "         City3  \n",
              "count  10682.0  \n",
              "mean       0.0  \n",
              "std        0.0  \n",
              "min        0.0  \n",
              "25%        0.0  \n",
              "50%        0.0  \n",
              "75%        0.0  \n",
              "max        0.0  "
            ],
            "text/html": [
              "\n",
              "  <div id=\"df-20326550-b20a-407f-b5b1-74898772ca13\">\n",
              "    <div class=\"colab-df-container\">\n",
              "      <div>\n",
              "<style scoped>\n",
              "    .dataframe tbody tr th:only-of-type {\n",
              "        vertical-align: middle;\n",
              "    }\n",
              "\n",
              "    .dataframe tbody tr th {\n",
              "        vertical-align: top;\n",
              "    }\n",
              "\n",
              "    .dataframe thead th {\n",
              "        text-align: right;\n",
              "    }\n",
              "</style>\n",
              "<table border=\"1\" class=\"dataframe\">\n",
              "  <thead>\n",
              "    <tr style=\"text-align: right;\">\n",
              "      <th></th>\n",
              "      <th>Airline</th>\n",
              "      <th>Source</th>\n",
              "      <th>Destination</th>\n",
              "      <th>Total_Stops</th>\n",
              "      <th>Additional_Info</th>\n",
              "      <th>Price</th>\n",
              "      <th>Date</th>\n",
              "      <th>City1</th>\n",
              "      <th>City2</th>\n",
              "      <th>City3</th>\n",
              "    </tr>\n",
              "  </thead>\n",
              "  <tbody>\n",
              "    <tr>\n",
              "      <th>count</th>\n",
              "      <td>10682.000000</td>\n",
              "      <td>10682.000000</td>\n",
              "      <td>10682.000000</td>\n",
              "      <td>10682.000000</td>\n",
              "      <td>10682.000000</td>\n",
              "      <td>10682.000000</td>\n",
              "      <td>10682.000000</td>\n",
              "      <td>10682.000000</td>\n",
              "      <td>10682.0</td>\n",
              "      <td>10682.0</td>\n",
              "    </tr>\n",
              "    <tr>\n",
              "      <th>mean</th>\n",
              "      <td>3.966205</td>\n",
              "      <td>1.952069</td>\n",
              "      <td>1.435967</td>\n",
              "      <td>1.458622</td>\n",
              "      <td>7.392998</td>\n",
              "      <td>9086.292735</td>\n",
              "      <td>2.941678</td>\n",
              "      <td>74.827748</td>\n",
              "      <td>0.0</td>\n",
              "      <td>0.0</td>\n",
              "    </tr>\n",
              "    <tr>\n",
              "      <th>std</th>\n",
              "      <td>2.352090</td>\n",
              "      <td>1.177110</td>\n",
              "      <td>1.474773</td>\n",
              "      <td>1.806640</td>\n",
              "      <td>1.214254</td>\n",
              "      <td>4610.885695</td>\n",
              "      <td>2.732095</td>\n",
              "      <td>36.731657</td>\n",
              "      <td>0.0</td>\n",
              "      <td>0.0</td>\n",
              "    </tr>\n",
              "    <tr>\n",
              "      <th>min</th>\n",
              "      <td>0.000000</td>\n",
              "      <td>0.000000</td>\n",
              "      <td>0.000000</td>\n",
              "      <td>0.000000</td>\n",
              "      <td>0.000000</td>\n",
              "      <td>1759.000000</td>\n",
              "      <td>0.000000</td>\n",
              "      <td>0.000000</td>\n",
              "      <td>0.0</td>\n",
              "      <td>0.0</td>\n",
              "    </tr>\n",
              "    <tr>\n",
              "      <th>25%</th>\n",
              "      <td>3.000000</td>\n",
              "      <td>2.000000</td>\n",
              "      <td>0.000000</td>\n",
              "      <td>0.000000</td>\n",
              "      <td>8.000000</td>\n",
              "      <td>5277.000000</td>\n",
              "      <td>1.000000</td>\n",
              "      <td>48.000000</td>\n",
              "      <td>0.0</td>\n",
              "      <td>0.0</td>\n",
              "    </tr>\n",
              "    <tr>\n",
              "      <th>50%</th>\n",
              "      <td>4.000000</td>\n",
              "      <td>2.000000</td>\n",
              "      <td>1.000000</td>\n",
              "      <td>0.000000</td>\n",
              "      <td>8.000000</td>\n",
              "      <td>8372.000000</td>\n",
              "      <td>2.000000</td>\n",
              "      <td>73.000000</td>\n",
              "      <td>0.0</td>\n",
              "      <td>0.0</td>\n",
              "    </tr>\n",
              "    <tr>\n",
              "      <th>75%</th>\n",
              "      <td>4.000000</td>\n",
              "      <td>3.000000</td>\n",
              "      <td>2.000000</td>\n",
              "      <td>4.000000</td>\n",
              "      <td>8.000000</td>\n",
              "      <td>12373.000000</td>\n",
              "      <td>3.000000</td>\n",
              "      <td>104.000000</td>\n",
              "      <td>0.0</td>\n",
              "      <td>0.0</td>\n",
              "    </tr>\n",
              "    <tr>\n",
              "      <th>max</th>\n",
              "      <td>11.000000</td>\n",
              "      <td>4.000000</td>\n",
              "      <td>5.000000</td>\n",
              "      <td>5.000000</td>\n",
              "      <td>9.000000</td>\n",
              "      <td>79512.000000</td>\n",
              "      <td>9.000000</td>\n",
              "      <td>128.000000</td>\n",
              "      <td>0.0</td>\n",
              "      <td>0.0</td>\n",
              "    </tr>\n",
              "  </tbody>\n",
              "</table>\n",
              "</div>\n",
              "      <button class=\"colab-df-convert\" onclick=\"convertToInteractive('df-20326550-b20a-407f-b5b1-74898772ca13')\"\n",
              "              title=\"Convert this dataframe to an interactive table.\"\n",
              "              style=\"display:none;\">\n",
              "        \n",
              "  <svg xmlns=\"http://www.w3.org/2000/svg\" height=\"24px\"viewBox=\"0 0 24 24\"\n",
              "       width=\"24px\">\n",
              "    <path d=\"M0 0h24v24H0V0z\" fill=\"none\"/>\n",
              "    <path d=\"M18.56 5.44l.94 2.06.94-2.06 2.06-.94-2.06-.94-.94-2.06-.94 2.06-2.06.94zm-11 1L8.5 8.5l.94-2.06 2.06-.94-2.06-.94L8.5 2.5l-.94 2.06-2.06.94zm10 10l.94 2.06.94-2.06 2.06-.94-2.06-.94-.94-2.06-.94 2.06-2.06.94z\"/><path d=\"M17.41 7.96l-1.37-1.37c-.4-.4-.92-.59-1.43-.59-.52 0-1.04.2-1.43.59L10.3 9.45l-7.72 7.72c-.78.78-.78 2.05 0 2.83L4 21.41c.39.39.9.59 1.41.59.51 0 1.02-.2 1.41-.59l7.78-7.78 2.81-2.81c.8-.78.8-2.07 0-2.86zM5.41 20L4 18.59l7.72-7.72 1.47 1.35L5.41 20z\"/>\n",
              "  </svg>\n",
              "      </button>\n",
              "      \n",
              "  <style>\n",
              "    .colab-df-container {\n",
              "      display:flex;\n",
              "      flex-wrap:wrap;\n",
              "      gap: 12px;\n",
              "    }\n",
              "\n",
              "    .colab-df-convert {\n",
              "      background-color: #E8F0FE;\n",
              "      border: none;\n",
              "      border-radius: 50%;\n",
              "      cursor: pointer;\n",
              "      display: none;\n",
              "      fill: #1967D2;\n",
              "      height: 32px;\n",
              "      padding: 0 0 0 0;\n",
              "      width: 32px;\n",
              "    }\n",
              "\n",
              "    .colab-df-convert:hover {\n",
              "      background-color: #E2EBFA;\n",
              "      box-shadow: 0px 1px 2px rgba(60, 64, 67, 0.3), 0px 1px 3px 1px rgba(60, 64, 67, 0.15);\n",
              "      fill: #174EA6;\n",
              "    }\n",
              "\n",
              "    [theme=dark] .colab-df-convert {\n",
              "      background-color: #3B4455;\n",
              "      fill: #D2E3FC;\n",
              "    }\n",
              "\n",
              "    [theme=dark] .colab-df-convert:hover {\n",
              "      background-color: #434B5C;\n",
              "      box-shadow: 0px 1px 3px 1px rgba(0, 0, 0, 0.15);\n",
              "      filter: drop-shadow(0px 1px 2px rgba(0, 0, 0, 0.3));\n",
              "      fill: #FFFFFF;\n",
              "    }\n",
              "  </style>\n",
              "\n",
              "      <script>\n",
              "        const buttonEl =\n",
              "          document.querySelector('#df-20326550-b20a-407f-b5b1-74898772ca13 button.colab-df-convert');\n",
              "        buttonEl.style.display =\n",
              "          google.colab.kernel.accessAllowed ? 'block' : 'none';\n",
              "\n",
              "        async function convertToInteractive(key) {\n",
              "          const element = document.querySelector('#df-20326550-b20a-407f-b5b1-74898772ca13');\n",
              "          const dataTable =\n",
              "            await google.colab.kernel.invokeFunction('convertToInteractive',\n",
              "                                                     [key], {});\n",
              "          if (!dataTable) return;\n",
              "\n",
              "          const docLinkHtml = 'Like what you see? Visit the ' +\n",
              "            '<a target=\"_blank\" href=https://colab.research.google.com/notebooks/data_table.ipynb>data table notebook</a>'\n",
              "            + ' to learn more about interactive tables.';\n",
              "          element.innerHTML = '';\n",
              "          dataTable['output_type'] = 'display_data';\n",
              "          await google.colab.output.renderOutput(dataTable, element);\n",
              "          const docLink = document.createElement('div');\n",
              "          docLink.innerHTML = docLinkHtml;\n",
              "          element.appendChild(docLink);\n",
              "        }\n",
              "      </script>\n",
              "    </div>\n",
              "  </div>\n",
              "  "
            ]
          },
          "metadata": {},
          "execution_count": 42
        }
      ]
    },
    {
      "cell_type": "code",
      "source": [
        "import seaborn as sns \n",
        "C=1 \n",
        "plt.figure(figsize=(20,45))\n",
        "for i in categorical:\n",
        "  plt.subplot(6,3,C)\n",
        "  sns.countplot(data[i])\n",
        "  plt.xticks(rotation=90)\n",
        "  plt.tight_layout(pad=3.0)\n",
        "  C=C+1\n",
        "plt.show()"
      ],
      "metadata": {
        "id": "TtFOhQzhKZDj"
      },
      "execution_count": null,
      "outputs": []
    },
    {
      "cell_type": "code",
      "source": [
        "plt.figure(figsize=(15,8))\n",
        "sns.displot(data.Price)"
      ],
      "metadata": {
        "colab": {
          "base_uri": "https://localhost:8080/",
          "height": 529
        },
        "id": "pc9Cey1nNMPg",
        "outputId": "e4ca42c7-1783-43c4-a22c-041fbac7b99f"
      },
      "execution_count": null,
      "outputs": [
        {
          "output_type": "execute_result",
          "data": {
            "text/plain": [
              "<seaborn.axisgrid.FacetGrid at 0x7fcc015a7220>"
            ]
          },
          "metadata": {},
          "execution_count": 44
        },
        {
          "output_type": "display_data",
          "data": {
            "text/plain": [
              "<Figure size 1500x800 with 0 Axes>"
            ]
          },
          "metadata": {}
        },
        {
          "output_type": "display_data",
          "data": {
            "text/plain": [
              "<Figure size 500x500 with 1 Axes>"
            ],
            "image/png": "[encoded data removed]"
          },
          "metadata": {}
        }
      ]
    },
    {
      "cell_type": "code",
      "source": [
        "sns.heatmap(data.corr(),annot=True)"
      ],
      "metadata": {
        "colab": {
          "base_uri": "https://localhost:8080/",
          "height": 599
        },
        "id": "ZALjLDyJN19L",
        "outputId": "046438e0-3b06-42f3-9d88-b39656c4a4ad"
      },
      "execution_count": null,
      "outputs": [
        {
          "output_type": "execute_result",
          "data": {
            "text/plain": [
              "<Axes: >"
            ]
          },
          "metadata": {},
          "execution_count": 45
        },
        {
          "output_type": "display_data",
          "data": {
            "text/plain": [
              "<Figure size 640x480 with 2 Axes>"
            ],
            "image/png": "[encoded data removed]"
          },
          "metadata": {}
        }
      ]
    },
    {
      "cell_type": "code",
      "source": [
        " import seaborn as sns\n",
        "sns.boxplot(data['Price'])"
      ],
      "metadata": {
        "colab": {
          "base_uri": "https://localhost:8080/",
          "height": 466
        },
        "id": "uYjVfbhLOGEp",
        "outputId": "3a2ee564-165a-441a-e7db-954ab3263d93"
      },
      "execution_count": null,
      "outputs": [
        {
          "output_type": "execute_result",
          "data": {
            "text/plain": [
              "<Axes: >"
            ]
          },
          "metadata": {},
          "execution_count": 46
        },
        {
          "output_type": "display_data",
          "data": {
            "text/plain": [
              "<Figure size 640x480 with 1 Axes>"
            ],
            "image/png": "[encoded data removed]"
          },
          "metadata": {}
        }
      ]
    },
    {
      "cell_type": "code",
      "source": [
        "y = data['Price']\n",
        "X = data.drop(columns=['Price'], axis=1)"
      ],
      "metadata": {
        "id": "wEQg6MQtOsCc"
      },
      "execution_count": null,
      "outputs": []
    },
    {
      "cell_type": "code",
      "source": [
        "from sklearn.preprocessing import StandardScaler \n",
        "ss=StandardScaler()\n"
      ],
      "metadata": {
        "id": "DZ6qv-rKO4MK"
      },
      "execution_count": null,
      "outputs": []
    },
    {
      "cell_type": "code",
      "source": [
        "X_scaled = ss.fit_transform(X)"
      ],
      "metadata": {
        "id": "nJTjgTNXPXAZ"
      },
      "execution_count": null,
      "outputs": []
    },
    {
      "cell_type": "code",
      "source": [
        "X_scaled = pd.DataFrame(X_scaled, columns=X.columns)\n",
        "X_scaled.head()"
      ],
      "metadata": {
        "id": "ZefILkO8QF15"
      },
      "execution_count": null,
      "outputs": []
    },
    {
      "cell_type": "code",
      "source": [
        "from sklearn.model_selection import train_test_split \n",
        "X_train,X_test,y_train,y_test=train_test_split(X,y,test_size=0.2, random_state=42)"
      ],
      "metadata": {
        "id": "_HvlVeyaQfDX"
      },
      "execution_count": null,
      "outputs": []
    },
    {
      "cell_type": "code",
      "source": [
        "X_train.head()"
      ],
      "metadata": {
        "colab": {
          "base_uri": "https://localhost:8080/",
          "height": 699
        },
        "id": "_Q2vV-VqRIJt",
        "outputId": "d492d6dc-085f-40d8-8519-23d1e3952100"
      },
      "execution_count": null,
      "outputs": [
        {
          "output_type": "execute_result",
          "data": {
            "text/plain": [
              "       Airline Date_of_Journey  Source  Destination                    Route  \\\n",
              "10005        6      27/05/2019       2            1        [DEL → BOM → COK]   \n",
              "3684         4       9/05/2019       2            1        [DEL → BOM → COK]   \n",
              "1034         8      24/04/2019       2            1        [DEL → MAA → COK]   \n",
              "3909         6      21/03/2019       2            1        [DEL → BOM → COK]   \n",
              "3088         1      24/06/2019       2            1  [DEL → HYD → BOM → COK]   \n",
              "\n",
              "       Dep_Time      Arrival_Time    Duration  Total_Stops  Additional_Info  \\\n",
              "10005  [08, 30]           [19:15]  [10h, 45m]            0                8   \n",
              "3684   [11, 30]  [12:35, 10, May]   [25h, 5m]            0                5   \n",
              "1034   [15, 45]           [22:05]   [6h, 20m]            0                8   \n",
              "3909   [12, 50]  [01:35, 22, Mar]  [12h, 45m]            0                8   \n",
              "3088   [17, 15]  [19:15, 25, Jun]       [26h]            1                8   \n",
              "\n",
              "       ...  City6 Dep_Time_Hour Dep_Time_Mins  Arrival_date  Time_of_Arrival  \\\n",
              "10005  ...   None            08            30             2         [19, 15]   \n",
              "3684   ...   None            11            30            10         [12, 35]   \n",
              "1034   ...   None            15            45             2         [22, 05]   \n",
              "3909   ...   None            12            50            22         [01, 35]   \n",
              "3088   ...   None            17            15            25         [19, 15]   \n",
              "\n",
              "       Arrival_Time_Hour Arrival_Time_Mins Travel_Hours Travel Hours  \\\n",
              "10005                 19                15       [10, ]           10   \n",
              "3684                  12                35       [25, ]           25   \n",
              "1034                  22                05        [6, ]            6   \n",
              "3909                  01                35       [12, ]           12   \n",
              "3088                  19                15       [26, ]           26   \n",
              "\n",
              "      Travel_Mins   \n",
              "10005          45m  \n",
              "3684            5m  \n",
              "1034           20m  \n",
              "3909           45m  \n",
              "3088           NaN  \n",
              "\n",
              "[5 rows x 28 columns]"
            ],
            "text/html": [
              "\n",
              "  <div id=\"df-0efade37-2acf-4e97-b1d6-51b2d0137a75\">\n",
              "    <div class=\"colab-df-container\">\n",
              "      <div>\n",
              "<style scoped>\n",
              "    .dataframe tbody tr th:only-of-type {\n",
              "        vertical-align: middle;\n",
              "    }\n",
              "\n",
              "    .dataframe tbody tr th {\n",
              "        vertical-align: top;\n",
              "    }\n",
              "\n",
              "    .dataframe thead th {\n",
              "        text-align: right;\n",
              "    }\n",
              "</style>\n",
              "<table border=\"1\" class=\"dataframe\">\n",
              "  <thead>\n",
              "    <tr style=\"text-align: right;\">\n",
              "      <th></th>\n",
              "      <th>Airline</th>\n",
              "      <th>Date_of_Journey</th>\n",
              "      <th>Source</th>\n",
              "      <th>Destination</th>\n",
              "      <th>Route</th>\n",
              "      <th>Dep_Time</th>\n",
              "      <th>Arrival_Time</th>\n",
              "      <th>Duration</th>\n",
              "      <th>Total_Stops</th>\n",
              "      <th>Additional_Info</th>\n",
              "      <th>...</th>\n",
              "      <th>City6</th>\n",
              "      <th>Dep_Time_Hour</th>\n",
              "      <th>Dep_Time_Mins</th>\n",
              "      <th>Arrival_date</th>\n",
              "      <th>Time_of_Arrival</th>\n",
              "      <th>Arrival_Time_Hour</th>\n",
              "      <th>Arrival_Time_Mins</th>\n",
              "      <th>Travel_Hours</th>\n",
              "      <th>Travel Hours</th>\n",
              "      <th>Travel_Mins</th>\n",
              "    </tr>\n",
              "  </thead>\n",
              "  <tbody>\n",
              "    <tr>\n",
              "      <th>10005</th>\n",
              "      <td>6</td>\n",
              "      <td>27/05/2019</td>\n",
              "      <td>2</td>\n",
              "      <td>1</td>\n",
              "      <td>[DEL → BOM → COK]</td>\n",
              "      <td>[08, 30]</td>\n",
              "      <td>[19:15]</td>\n",
              "      <td>[10h, 45m]</td>\n",
              "      <td>0</td>\n",
              "      <td>8</td>\n",
              "      <td>...</td>\n",
              "      <td>None</td>\n",
              "      <td>08</td>\n",
              "      <td>30</td>\n",
              "      <td>2</td>\n",
              "      <td>[19, 15]</td>\n",
              "      <td>19</td>\n",
              "      <td>15</td>\n",
              "      <td>[10, ]</td>\n",
              "      <td>10</td>\n",
              "      <td>45m</td>\n",
              "    </tr>\n",
              "    <tr>\n",
              "      <th>3684</th>\n",
              "      <td>4</td>\n",
              "      <td>9/05/2019</td>\n",
              "      <td>2</td>\n",
              "      <td>1</td>\n",
              "      <td>[DEL → BOM → COK]</td>\n",
              "      <td>[11, 30]</td>\n",
              "      <td>[12:35, 10, May]</td>\n",
              "      <td>[25h, 5m]</td>\n",
              "      <td>0</td>\n",
              "      <td>5</td>\n",
              "      <td>...</td>\n",
              "      <td>None</td>\n",
              "      <td>11</td>\n",
              "      <td>30</td>\n",
              "      <td>10</td>\n",
              "      <td>[12, 35]</td>\n",
              "      <td>12</td>\n",
              "      <td>35</td>\n",
              "      <td>[25, ]</td>\n",
              "      <td>25</td>\n",
              "      <td>5m</td>\n",
              "    </tr>\n",
              "    <tr>\n",
              "      <th>1034</th>\n",
              "      <td>8</td>\n",
              "      <td>24/04/2019</td>\n",
              "      <td>2</td>\n",
              "      <td>1</td>\n",
              "      <td>[DEL → MAA → COK]</td>\n",
              "      <td>[15, 45]</td>\n",
              "      <td>[22:05]</td>\n",
              "      <td>[6h, 20m]</td>\n",
              "      <td>0</td>\n",
              "      <td>8</td>\n",
              "      <td>...</td>\n",
              "      <td>None</td>\n",
              "      <td>15</td>\n",
              "      <td>45</td>\n",
              "      <td>2</td>\n",
              "      <td>[22, 05]</td>\n",
              "      <td>22</td>\n",
              "      <td>05</td>\n",
              "      <td>[6, ]</td>\n",
              "      <td>6</td>\n",
              "      <td>20m</td>\n",
              "    </tr>\n",
              "    <tr>\n",
              "      <th>3909</th>\n",
              "      <td>6</td>\n",
              "      <td>21/03/2019</td>\n",
              "      <td>2</td>\n",
              "      <td>1</td>\n",
              "      <td>[DEL → BOM → COK]</td>\n",
              "      <td>[12, 50]</td>\n",
              "      <td>[01:35, 22, Mar]</td>\n",
              "      <td>[12h, 45m]</td>\n",
              "      <td>0</td>\n",
              "      <td>8</td>\n",
              "      <td>...</td>\n",
              "      <td>None</td>\n",
              "      <td>12</td>\n",
              "      <td>50</td>\n",
              "      <td>22</td>\n",
              "      <td>[01, 35]</td>\n",
              "      <td>01</td>\n",
              "      <td>35</td>\n",
              "      <td>[12, ]</td>\n",
              "      <td>12</td>\n",
              "      <td>45m</td>\n",
              "    </tr>\n",
              "    <tr>\n",
              "      <th>3088</th>\n",
              "      <td>1</td>\n",
              "      <td>24/06/2019</td>\n",
              "      <td>2</td>\n",
              "      <td>1</td>\n",
              "      <td>[DEL → HYD → BOM → COK]</td>\n",
              "      <td>[17, 15]</td>\n",
              "      <td>[19:15, 25, Jun]</td>\n",
              "      <td>[26h]</td>\n",
              "      <td>1</td>\n",
              "      <td>8</td>\n",
              "      <td>...</td>\n",
              "      <td>None</td>\n",
              "      <td>17</td>\n",
              "      <td>15</td>\n",
              "      <td>25</td>\n",
              "      <td>[19, 15]</td>\n",
              "      <td>19</td>\n",
              "      <td>15</td>\n",
              "      <td>[26, ]</td>\n",
              "      <td>26</td>\n",
              "      <td>NaN</td>\n",
              "    </tr>\n",
              "  </tbody>\n",
              "</table>\n",
              "<p>5 rows × 28 columns</p>\n",
              "</div>\n",
              "      <button class=\"colab-df-convert\" onclick=\"convertToInteractive('df-0efade37-2acf-4e97-b1d6-51b2d0137a75')\"\n",
              "              title=\"Convert this dataframe to an interactive table.\"\n",
              "              style=\"display:none;\">\n",
              "        \n",
              "  <svg xmlns=\"http://www.w3.org/2000/svg\" height=\"24px\"viewBox=\"0 0 24 24\"\n",
              "       width=\"24px\">\n",
              "    <path d=\"M0 0h24v24H0V0z\" fill=\"none\"/>\n",
              "    <path d=\"M18.56 5.44l.94 2.06.94-2.06 2.06-.94-2.06-.94-.94-2.06-.94 2.06-2.06.94zm-11 1L8.5 8.5l.94-2.06 2.06-.94-2.06-.94L8.5 2.5l-.94 2.06-2.06.94zm10 10l.94 2.06.94-2.06 2.06-.94-2.06-.94-.94-2.06-.94 2.06-2.06.94z\"/><path d=\"M17.41 7.96l-1.37-1.37c-.4-.4-.92-.59-1.43-.59-.52 0-1.04.2-1.43.59L10.3 9.45l-7.72 7.72c-.78.78-.78 2.05 0 2.83L4 21.41c.39.39.9.59 1.41.59.51 0 1.02-.2 1.41-.59l7.78-7.78 2.81-2.81c.8-.78.8-2.07 0-2.86zM5.41 20L4 18.59l7.72-7.72 1.47 1.35L5.41 20z\"/>\n",
              "  </svg>\n",
              "      </button>\n",
              "      \n",
              "  <style>\n",
              "    .colab-df-container {\n",
              "      display:flex;\n",
              "      flex-wrap:wrap;\n",
              "      gap: 12px;\n",
              "    }\n",
              "\n",
              "    .colab-df-convert {\n",
              "      background-color: #E8F0FE;\n",
              "      border: none;\n",
              "      border-radius: 50%;\n",
              "      cursor: pointer;\n",
              "      display: none;\n",
              "      fill: #1967D2;\n",
              "      height: 32px;\n",
              "      padding: 0 0 0 0;\n",
              "      width: 32px;\n",
              "    }\n",
              "\n",
              "    .colab-df-convert:hover {\n",
              "      background-color: #E2EBFA;\n",
              "      box-shadow: 0px 1px 2px rgba(60, 64, 67, 0.3), 0px 1px 3px 1px rgba(60, 64, 67, 0.15);\n",
              "      fill: #174EA6;\n",
              "    }\n",
              "\n",
              "    [theme=dark] .colab-df-convert {\n",
              "      background-color: #3B4455;\n",
              "      fill: #D2E3FC;\n",
              "    }\n",
              "\n",
              "    [theme=dark] .colab-df-convert:hover {\n",
              "      background-color: #434B5C;\n",
              "      box-shadow: 0px 1px 3px 1px rgba(0, 0, 0, 0.15);\n",
              "      filter: drop-shadow(0px 1px 2px rgba(0, 0, 0, 0.3));\n",
              "      fill: #FFFFFF;\n",
              "    }\n",
              "  </style>\n",
              "\n",
              "      <script>\n",
              "        const buttonEl =\n",
              "          document.querySelector('#df-0efade37-2acf-4e97-b1d6-51b2d0137a75 button.colab-df-convert');\n",
              "        buttonEl.style.display =\n",
              "          google.colab.kernel.accessAllowed ? 'block' : 'none';\n",
              "\n",
              "        async function convertToInteractive(key) {\n",
              "          const element = document.querySelector('#df-0efade37-2acf-4e97-b1d6-51b2d0137a75');\n",
              "          const dataTable =\n",
              "            await google.colab.kernel.invokeFunction('convertToInteractive',\n",
              "                                                     [key], {});\n",
              "          if (!dataTable) return;\n",
              "\n",
              "          const docLinkHtml = 'Like what you see? Visit the ' +\n",
              "            '<a target=\"_blank\" href=https://colab.research.google.com/notebooks/data_table.ipynb>data table notebook</a>'\n",
              "            + ' to learn more about interactive tables.';\n",
              "          element.innerHTML = '';\n",
              "          dataTable['output_type'] = 'display_data';\n",
              "          await google.colab.output.renderOutput(dataTable, element);\n",
              "          const docLink = document.createElement('div');\n",
              "          docLink.innerHTML = docLinkHtml;\n",
              "          element.appendChild(docLink);\n",
              "        }\n",
              "      </script>\n",
              "    </div>\n",
              "  </div>\n",
              "  "
            ]
          },
          "metadata": {},
          "execution_count": 52
        }
      ]
    },
    {
      "cell_type": "code",
      "source": [
        "from sklearn.ensemble import RandomForestRegressor, GradientBoostingRegressor, AdaBoostRegressor\n",
        "\n",
        "rfr=RandomForestRegressor()\n",
        "\n",
        "gb=GradientBoostingRegressor()\n",
        "\n",
        "ad=AdaBoostRegressor()"
      ],
      "metadata": {
        "id": "FmB9OCV0RRAL"
      },
      "execution_count": null,
      "outputs": []
    },
    {
      "cell_type": "code",
      "source": [
        "from sklearn.metrics import r2_score,mean_absolute_error,mean_squared_error\n",
        "for i in [rfr,gb,ad]:\n",
        "    i.fit(X_train,y_train) \n",
        "    y_pred-i.predict(X_test)\n",
        "    test_score=r2_score (y_test,y_pred)\n",
        "    train_score=r2_score (y_train, i.predict(X_train))\n",
        "    if abs(train_score=test_score)<=0.2:\n",
        "       print(i)\n",
        "       print(\"R2 score is\", r2_score (y_test,y_pred))\n",
        "       print(\"R2 for train data\", r2_score (y_train, i.predict(X_train)))\n",
        "       print(\"Mean Absolute Error is\", mean_absolute_error(y_pred,y_test))\n",
        "       print(\"Mean Squared Error is\",(mean_squared_error(y_pred, y_test))\n",
        "       print(\"Root Mean Sqaured Error is\",(mean_squared_error(y_pred,y_test,squared=False)))"
      ],
      "metadata": {
        "id": "SBudHQ2_ShEQ"
      },
      "execution_count": null,
      "outputs": []
    },
    {
      "cell_type": "code",
      "source": [
        "from sklearn.neighbors import KNeighborsRegressor\n",
        "from sklearn.svm import SVR\n",
        "from sklearn.tree import DecisionTreeRegressor\n",
        "from sklearn.metrics import r2_score,mean_absolute_error,mean_squared_error\n",
        "knn=KNeighborsRegressor()\n",
        "svr=SVR()\n",
        "dt=DecisionTreeRegressor()\n",
        "for i in [knn, svr,dt]:\n",
        "  i.fit(X_train,y_train)\n",
        "  y_pred=i.predict(X_test)\n",
        "  test_score=r2_score (y_test,y_pred) \n",
        "  train_score=r2_score (y_train, i.predict(X_train))\n",
        "  if abs(train_score=test_score)<=0.1:\n",
        "     print(i)\n",
        "     print('R2 Score is', r2_score(y_test,y_pred))\n",
        "     print('R2 Score for train data', r2_score (y_train,i.predict(X_train)))\n",
        "     print('Mean Absolute Error is', mean_absolute_error(y_test,y_pred))\n",
        "     print('Mean Squared Error is',mean_squared_error(y_test,y_pred)) \n",
        "     print('Root Mean Squared Error is', (mean_squared_error(y_test,y_pred, squared=False)))"
      ],
      "metadata": {
        "id": "hjII-6XyV3wO",
        "colab": {
          "base_uri": "https://localhost:8080/",
          "height": 380
        },
        "outputId": "f11d9d8e-10b1-46ed-9c0a-a0c28e8ee863"
      },
      "execution_count": null,
      "outputs": [
        {
          "output_type": "error",
          "ename": "ValueError",
          "evalue": "ignored",
          "traceback": [
            "\u001b[0;31m---------------------------------------------------------------------------\u001b[0m",
            "\u001b[0;31mValueError\u001b[0m                                Traceback (most recent call last)",
            "\u001b[0;32m<ipython-input-55-67ec175eb887>\u001b[0m in \u001b[0;36m<cell line: 8>\u001b[0;34m()\u001b[0m\n\u001b[1;32m      7\u001b[0m \u001b[0mdt\u001b[0m\u001b[0;34m=\u001b[0m\u001b[0mDecisionTreeRegressor\u001b[0m\u001b[0;34m(\u001b[0m\u001b[0;34m)\u001b[0m\u001b[0;34m\u001b[0m\u001b[0;34m\u001b[0m\u001b[0m\n\u001b[1;32m      8\u001b[0m \u001b[0;32mfor\u001b[0m \u001b[0mi\u001b[0m \u001b[0;32min\u001b[0m \u001b[0;34m[\u001b[0m\u001b[0mknn\u001b[0m\u001b[0;34m,\u001b[0m \u001b[0msvr\u001b[0m\u001b[0;34m,\u001b[0m\u001b[0mdt\u001b[0m\u001b[0;34m]\u001b[0m\u001b[0;34m:\u001b[0m\u001b[0;34m\u001b[0m\u001b[0;34m\u001b[0m\u001b[0m\n\u001b[0;32m----> 9\u001b[0;31m   \u001b[0mi\u001b[0m\u001b[0;34m.\u001b[0m\u001b[0mfit\u001b[0m\u001b[0;34m(\u001b[0m\u001b[0mX_train\u001b[0m\u001b[0;34m,\u001b[0m\u001b[0my_train\u001b[0m\u001b[0;34m)\u001b[0m\u001b[0;34m\u001b[0m\u001b[0;34m\u001b[0m\u001b[0m\n\u001b[0m\u001b[1;32m     10\u001b[0m   \u001b[0my_pred\u001b[0m\u001b[0;34m=\u001b[0m\u001b[0mi\u001b[0m\u001b[0;34m.\u001b[0m\u001b[0mpredict\u001b[0m\u001b[0;34m(\u001b[0m\u001b[0mX_test\u001b[0m\u001b[0;34m)\u001b[0m\u001b[0;34m\u001b[0m\u001b[0;34m\u001b[0m\u001b[0m\n\u001b[1;32m     11\u001b[0m   \u001b[0mtest_score\u001b[0m\u001b[0;34m=\u001b[0m\u001b[0mr2_score\u001b[0m \u001b[0;34m(\u001b[0m\u001b[0my_test\u001b[0m\u001b[0;34m,\u001b[0m\u001b[0my_pred\u001b[0m\u001b[0;34m)\u001b[0m\u001b[0;34m\u001b[0m\u001b[0;34m\u001b[0m\u001b[0m\n",
            "\u001b[0;32m/usr/local/lib/python3.9/dist-packages/sklearn/neighbors/_regression.py\u001b[0m in \u001b[0;36mfit\u001b[0;34m(self, X, y)\u001b[0m\n\u001b[1;32m    215\u001b[0m         \u001b[0mself\u001b[0m\u001b[0;34m.\u001b[0m\u001b[0m_validate_params\u001b[0m\u001b[0;34m(\u001b[0m\u001b[0;34m)\u001b[0m\u001b[0;34m\u001b[0m\u001b[0;34m\u001b[0m\u001b[0m\n\u001b[1;32m    216\u001b[0m \u001b[0;34m\u001b[0m\u001b[0m\n\u001b[0;32m--> 217\u001b[0;31m         \u001b[0;32mreturn\u001b[0m \u001b[0mself\u001b[0m\u001b[0;34m.\u001b[0m\u001b[0m_fit\u001b[0m\u001b[0;34m(\u001b[0m\u001b[0mX\u001b[0m\u001b[0;34m,\u001b[0m \u001b[0my\u001b[0m\u001b[0;34m)\u001b[0m\u001b[0;34m\u001b[0m\u001b[0;34m\u001b[0m\u001b[0m\n\u001b[0m\u001b[1;32m    218\u001b[0m \u001b[0;34m\u001b[0m\u001b[0m\n\u001b[1;32m    219\u001b[0m     \u001b[0;32mdef\u001b[0m \u001b[0mpredict\u001b[0m\u001b[0;34m(\u001b[0m\u001b[0mself\u001b[0m\u001b[0;34m,\u001b[0m \u001b[0mX\u001b[0m\u001b[0;34m)\u001b[0m\u001b[0;34m:\u001b[0m\u001b[0;34m\u001b[0m\u001b[0;34m\u001b[0m\u001b[0m\n",
            "\u001b[0;32m/usr/local/lib/python3.9/dist-packages/sklearn/neighbors/_base.py\u001b[0m in \u001b[0;36m_fit\u001b[0;34m(self, X, y)\u001b[0m\n\u001b[1;32m    452\u001b[0m         \u001b[0;32mif\u001b[0m \u001b[0mself\u001b[0m\u001b[0;34m.\u001b[0m\u001b[0m_get_tags\u001b[0m\u001b[0;34m(\u001b[0m\u001b[0;34m)\u001b[0m\u001b[0;34m[\u001b[0m\u001b[0;34m\"requires_y\"\u001b[0m\u001b[0;34m]\u001b[0m\u001b[0;34m:\u001b[0m\u001b[0;34m\u001b[0m\u001b[0;34m\u001b[0m\u001b[0m\n\u001b[1;32m    453\u001b[0m             \u001b[0;32mif\u001b[0m \u001b[0;32mnot\u001b[0m \u001b[0misinstance\u001b[0m\u001b[0;34m(\u001b[0m\u001b[0mX\u001b[0m\u001b[0;34m,\u001b[0m \u001b[0;34m(\u001b[0m\u001b[0mKDTree\u001b[0m\u001b[0;34m,\u001b[0m \u001b[0mBallTree\u001b[0m\u001b[0;34m,\u001b[0m \u001b[0mNeighborsBase\u001b[0m\u001b[0;34m)\u001b[0m\u001b[0;34m)\u001b[0m\u001b[0;34m:\u001b[0m\u001b[0;34m\u001b[0m\u001b[0;34m\u001b[0m\u001b[0m\n\u001b[0;32m--> 454\u001b[0;31m                 X, y = self._validate_data(\n\u001b[0m\u001b[1;32m    455\u001b[0m                     \u001b[0mX\u001b[0m\u001b[0;34m,\u001b[0m \u001b[0my\u001b[0m\u001b[0;34m,\u001b[0m \u001b[0maccept_sparse\u001b[0m\u001b[0;34m=\u001b[0m\u001b[0;34m\"csr\"\u001b[0m\u001b[0;34m,\u001b[0m \u001b[0mmulti_output\u001b[0m\u001b[0;34m=\u001b[0m\u001b[0;32mTrue\u001b[0m\u001b[0;34m,\u001b[0m \u001b[0morder\u001b[0m\u001b[0;34m=\u001b[0m\u001b[0;34m\"C\"\u001b[0m\u001b[0;34m\u001b[0m\u001b[0;34m\u001b[0m\u001b[0m\n\u001b[1;32m    456\u001b[0m                 )\n",
            "\u001b[0;32m/usr/local/lib/python3.9/dist-packages/sklearn/base.py\u001b[0m in \u001b[0;36m_validate_data\u001b[0;34m(self, X, y, reset, validate_separately, **check_params)\u001b[0m\n\u001b[1;32m    582\u001b[0m                 \u001b[0my\u001b[0m \u001b[0;34m=\u001b[0m \u001b[0mcheck_array\u001b[0m\u001b[0;34m(\u001b[0m\u001b[0my\u001b[0m\u001b[0;34m,\u001b[0m \u001b[0minput_name\u001b[0m\u001b[0;34m=\u001b[0m\u001b[0;34m\"y\"\u001b[0m\u001b[0;34m,\u001b[0m \u001b[0;34m**\u001b[0m\u001b[0mcheck_y_params\u001b[0m\u001b[0;34m)\u001b[0m\u001b[0;34m\u001b[0m\u001b[0;34m\u001b[0m\u001b[0m\n\u001b[1;32m    583\u001b[0m             \u001b[0;32melse\u001b[0m\u001b[0;34m:\u001b[0m\u001b[0;34m\u001b[0m\u001b[0;34m\u001b[0m\u001b[0m\n\u001b[0;32m--> 584\u001b[0;31m                 \u001b[0mX\u001b[0m\u001b[0;34m,\u001b[0m \u001b[0my\u001b[0m \u001b[0;34m=\u001b[0m \u001b[0mcheck_X_y\u001b[0m\u001b[0;34m(\u001b[0m\u001b[0mX\u001b[0m\u001b[0;34m,\u001b[0m \u001b[0my\u001b[0m\u001b[0;34m,\u001b[0m \u001b[0;34m**\u001b[0m\u001b[0mcheck_params\u001b[0m\u001b[0;34m)\u001b[0m\u001b[0;34m\u001b[0m\u001b[0;34m\u001b[0m\u001b[0m\n\u001b[0m\u001b[1;32m    585\u001b[0m             \u001b[0mout\u001b[0m \u001b[0;34m=\u001b[0m \u001b[0mX\u001b[0m\u001b[0;34m,\u001b[0m \u001b[0my\u001b[0m\u001b[0;34m\u001b[0m\u001b[0;34m\u001b[0m\u001b[0m\n\u001b[1;32m    586\u001b[0m \u001b[0;34m\u001b[0m\u001b[0m\n",
            "\u001b[0;32m/usr/local/lib/python3.9/dist-packages/sklearn/utils/validation.py\u001b[0m in \u001b[0;36mcheck_X_y\u001b[0;34m(X, y, accept_sparse, accept_large_sparse, dtype, order, copy, force_all_finite, ensure_2d, allow_nd, multi_output, ensure_min_samples, ensure_min_features, y_numeric, estimator)\u001b[0m\n\u001b[1;32m   1104\u001b[0m         )\n\u001b[1;32m   1105\u001b[0m \u001b[0;34m\u001b[0m\u001b[0m\n\u001b[0;32m-> 1106\u001b[0;31m     X = check_array(\n\u001b[0m\u001b[1;32m   1107\u001b[0m         \u001b[0mX\u001b[0m\u001b[0;34m,\u001b[0m\u001b[0;34m\u001b[0m\u001b[0;34m\u001b[0m\u001b[0m\n\u001b[1;32m   1108\u001b[0m         \u001b[0maccept_sparse\u001b[0m\u001b[0;34m=\u001b[0m\u001b[0maccept_sparse\u001b[0m\u001b[0;34m,\u001b[0m\u001b[0;34m\u001b[0m\u001b[0;34m\u001b[0m\u001b[0m\n",
            "\u001b[0;32m/usr/local/lib/python3.9/dist-packages/sklearn/utils/validation.py\u001b[0m in \u001b[0;36mcheck_array\u001b[0;34m(array, accept_sparse, accept_large_sparse, dtype, order, copy, force_all_finite, ensure_2d, allow_nd, ensure_min_samples, ensure_min_features, estimator, input_name)\u001b[0m\n\u001b[1;32m    877\u001b[0m                     \u001b[0marray\u001b[0m \u001b[0;34m=\u001b[0m \u001b[0mxp\u001b[0m\u001b[0;34m.\u001b[0m\u001b[0mastype\u001b[0m\u001b[0;34m(\u001b[0m\u001b[0marray\u001b[0m\u001b[0;34m,\u001b[0m \u001b[0mdtype\u001b[0m\u001b[0;34m,\u001b[0m \u001b[0mcopy\u001b[0m\u001b[0;34m=\u001b[0m\u001b[0;32mFalse\u001b[0m\u001b[0;34m)\u001b[0m\u001b[0;34m\u001b[0m\u001b[0;34m\u001b[0m\u001b[0m\n\u001b[1;32m    878\u001b[0m                 \u001b[0;32melse\u001b[0m\u001b[0;34m:\u001b[0m\u001b[0;34m\u001b[0m\u001b[0;34m\u001b[0m\u001b[0m\n\u001b[0;32m--> 879\u001b[0;31m                     \u001b[0marray\u001b[0m \u001b[0;34m=\u001b[0m \u001b[0m_asarray_with_order\u001b[0m\u001b[0;34m(\u001b[0m\u001b[0marray\u001b[0m\u001b[0;34m,\u001b[0m \u001b[0morder\u001b[0m\u001b[0;34m=\u001b[0m\u001b[0morder\u001b[0m\u001b[0;34m,\u001b[0m \u001b[0mdtype\u001b[0m\u001b[0;34m=\u001b[0m\u001b[0mdtype\u001b[0m\u001b[0;34m,\u001b[0m \u001b[0mxp\u001b[0m\u001b[0;34m=\u001b[0m\u001b[0mxp\u001b[0m\u001b[0;34m)\u001b[0m\u001b[0;34m\u001b[0m\u001b[0;34m\u001b[0m\u001b[0m\n\u001b[0m\u001b[1;32m    880\u001b[0m             \u001b[0;32mexcept\u001b[0m \u001b[0mComplexWarning\u001b[0m \u001b[0;32mas\u001b[0m \u001b[0mcomplex_warning\u001b[0m\u001b[0;34m:\u001b[0m\u001b[0;34m\u001b[0m\u001b[0;34m\u001b[0m\u001b[0m\n\u001b[1;32m    881\u001b[0m                 raise ValueError(\n",
            "\u001b[0;32m/usr/local/lib/python3.9/dist-packages/sklearn/utils/_array_api.py\u001b[0m in \u001b[0;36m_asarray_with_order\u001b[0;34m(array, dtype, order, copy, xp)\u001b[0m\n\u001b[1;32m    183\u001b[0m     \u001b[0;32mif\u001b[0m \u001b[0mxp\u001b[0m\u001b[0;34m.\u001b[0m\u001b[0m__name__\u001b[0m \u001b[0;32min\u001b[0m \u001b[0;34m{\u001b[0m\u001b[0;34m\"numpy\"\u001b[0m\u001b[0;34m,\u001b[0m \u001b[0;34m\"numpy.array_api\"\u001b[0m\u001b[0;34m}\u001b[0m\u001b[0;34m:\u001b[0m\u001b[0;34m\u001b[0m\u001b[0;34m\u001b[0m\u001b[0m\n\u001b[1;32m    184\u001b[0m         \u001b[0;31m# Use NumPy API to support order\u001b[0m\u001b[0;34m\u001b[0m\u001b[0;34m\u001b[0m\u001b[0m\n\u001b[0;32m--> 185\u001b[0;31m         \u001b[0marray\u001b[0m \u001b[0;34m=\u001b[0m \u001b[0mnumpy\u001b[0m\u001b[0;34m.\u001b[0m\u001b[0masarray\u001b[0m\u001b[0;34m(\u001b[0m\u001b[0marray\u001b[0m\u001b[0;34m,\u001b[0m \u001b[0morder\u001b[0m\u001b[0;34m=\u001b[0m\u001b[0morder\u001b[0m\u001b[0;34m,\u001b[0m \u001b[0mdtype\u001b[0m\u001b[0;34m=\u001b[0m\u001b[0mdtype\u001b[0m\u001b[0;34m)\u001b[0m\u001b[0;34m\u001b[0m\u001b[0;34m\u001b[0m\u001b[0m\n\u001b[0m\u001b[1;32m    186\u001b[0m         \u001b[0;32mreturn\u001b[0m \u001b[0mxp\u001b[0m\u001b[0;34m.\u001b[0m\u001b[0masarray\u001b[0m\u001b[0;34m(\u001b[0m\u001b[0marray\u001b[0m\u001b[0;34m,\u001b[0m \u001b[0mcopy\u001b[0m\u001b[0;34m=\u001b[0m\u001b[0mcopy\u001b[0m\u001b[0;34m)\u001b[0m\u001b[0;34m\u001b[0m\u001b[0;34m\u001b[0m\u001b[0m\n\u001b[1;32m    187\u001b[0m     \u001b[0;32melse\u001b[0m\u001b[0;34m:\u001b[0m\u001b[0;34m\u001b[0m\u001b[0;34m\u001b[0m\u001b[0m\n",
            "\u001b[0;32m/usr/local/lib/python3.9/dist-packages/pandas/core/generic.py\u001b[0m in \u001b[0;36m__array__\u001b[0;34m(self, dtype)\u001b[0m\n\u001b[1;32m   2068\u001b[0m \u001b[0;34m\u001b[0m\u001b[0m\n\u001b[1;32m   2069\u001b[0m     \u001b[0;32mdef\u001b[0m \u001b[0m__array__\u001b[0m\u001b[0;34m(\u001b[0m\u001b[0mself\u001b[0m\u001b[0;34m,\u001b[0m \u001b[0mdtype\u001b[0m\u001b[0;34m:\u001b[0m \u001b[0mnpt\u001b[0m\u001b[0;34m.\u001b[0m\u001b[0mDTypeLike\u001b[0m \u001b[0;34m|\u001b[0m \u001b[0;32mNone\u001b[0m \u001b[0;34m=\u001b[0m \u001b[0;32mNone\u001b[0m\u001b[0;34m)\u001b[0m \u001b[0;34m->\u001b[0m \u001b[0mnp\u001b[0m\u001b[0;34m.\u001b[0m\u001b[0mndarray\u001b[0m\u001b[0;34m:\u001b[0m\u001b[0;34m\u001b[0m\u001b[0;34m\u001b[0m\u001b[0m\n\u001b[0;32m-> 2070\u001b[0;31m         \u001b[0;32mreturn\u001b[0m \u001b[0mnp\u001b[0m\u001b[0;34m.\u001b[0m\u001b[0masarray\u001b[0m\u001b[0;34m(\u001b[0m\u001b[0mself\u001b[0m\u001b[0;34m.\u001b[0m\u001b[0m_values\u001b[0m\u001b[0;34m,\u001b[0m \u001b[0mdtype\u001b[0m\u001b[0;34m=\u001b[0m\u001b[0mdtype\u001b[0m\u001b[0;34m)\u001b[0m\u001b[0;34m\u001b[0m\u001b[0;34m\u001b[0m\u001b[0m\n\u001b[0m\u001b[1;32m   2071\u001b[0m \u001b[0;34m\u001b[0m\u001b[0m\n\u001b[1;32m   2072\u001b[0m     def __array_wrap__(\n",
            "\u001b[0;31mValueError\u001b[0m: could not convert string to float: '27/05/2019'"
          ]
        }
      ]
    },
    {
      "cell_type": "code",
      "source": [
        "from sklearn.model_selection import cross_val_score \n",
        "for i in range(2,5): \n",
        "  cv=cross_val_score(rfr,X,y,cv=i) \n",
        "  print (rfr,cv.mean())"
      ],
      "metadata": {
        "id": "w9wL7acIZVWO"
      },
      "execution_count": null,
      "outputs": []
    },
    {
      "cell_type": "code",
      "source": [
        "from sklearn.model_selection import RandomizedSearchCV"
      ],
      "metadata": {
        "id": "cEhFzCGtBP31"
      },
      "execution_count": null,
      "outputs": []
    },
    {
      "cell_type": "code",
      "source": [
        "param_grid={'n_estimators': [10,38,50,70,100],'max depth': [None,1,2,3],'max_features':['auto', 'sqrt']}\n",
        "\n",
        "rfr=RandomForestRegressor()\n",
        "\n",
        "rf_res=RandomizedSearchCV(estimator=rfr,param_distributions=param_grid,cv=3, verbose=2,n_jobs=-1)\n",
        "\n",
        "rf_res.fit(X_train,y_train)"
      ],
      "metadata": {
        "id": "mi7ybhOVDDSf"
      },
      "execution_count": null,
      "outputs": []
    },
    {
      "cell_type": "code",
      "source": [
        "gb=GradientBoostingRegressor()\n",
        "\n",
        "gb_res=RandomizedSearchCV(estimator=gb,param_distributions=param_grid, cv=3,verbose=2,n_jobs=-1)\n",
        "\n",
        "gb_res.fit(X_train,y_train)"
      ],
      "metadata": {
        "id": "OGRTDmtXERMV"
      },
      "execution_count": null,
      "outputs": []
    },
    {
      "cell_type": "code",
      "source": [
        "rfr=RandomForestRegressor(n_estimators=10, max_features='sqrt',max_depth=None)\n",
        "\n",
        "rfr.fit(x_train,y_train)\n",
        "\n",
        "y_train_pred=rfr.predict(x_train)\n",
        " \n",
        "y_test_pred=rfr.predict(x_test)\n",
        "\n",
        "print(\"train accuracy\", r2_score (y_train_pred,y_train))\n",
        "\n",
        "print(\"test accuracy\", r2_score (y_test_pred,y_test))"
      ],
      "metadata": {
        "id": "gLuf8ENNFHRu"
      },
      "execution_count": null,
      "outputs": []
    },
    {
      "cell_type": "code",
      "source": [
        "Price_list=pd.DataFrame({'Price':Price})"
      ],
      "metadata": {
        "id": "3bs89oTLFoZB"
      },
      "execution_count": null,
      "outputs": []
    },
    {
      "cell_type": "code",
      "source": [
        "price_list"
      ],
      "metadata": {
        "id": "FHnO5iWiGFwU"
      },
      "execution_count": null,
      "outputs": []
    },
    {
      "cell_type": "code",
      "source": [
        "import pickle\n",
        "pickle.dump(rfr,open('model1.pkl','wb'))"
      ],
      "metadata": {
        "id": "FtEeOfuRGQmq"
      },
      "execution_count": null,
      "outputs": []
    },
    {
      "cell_type": "code",
      "source": [
        "from flask import Flask,render_template, request\n",
        "\n",
        "import numpy as np\n",
        "\n",
        "import pickle"
      ],
      "metadata": {
        "id": "WbyAvLwWHMWQ"
      },
      "execution_count": null,
      "outputs": []
    },
    {
      "cell_type": "code",
      "source": [
        "model = pickle.load(open (r\"model1.pkl\", 'rb'))"
      ],
      "metadata": {
        "id": "nynRVEE4Hk_v"
      },
      "execution_count": null,
      "outputs": []
    },
    {
      "cell_type": "code",
      "source": [
        "@app.route(\"/home\")\n",
        "\n",
        "def home():\n",
        "\n",
        "    return render_template('/home.html')"
      ],
      "metadata": {
        "id": "CDfxAts0HxWY"
      },
      "execution_count": null,
      "outputs": []
    },
    {
      "cell_type": "code",
      "source": [
        "@app.route(\"/predict\")\n",
        "\n",
        "def home1():\n",
        "\n",
        "  return render_template('predict.html')\n",
        "\n",
        "@app.route(\"/pred\", methods=['POST', 'GET'])\n",
        "\n",
        "def predict(): \n",
        "\n",
        "  x = [[int(x) for x in request.form.values()]]\n",
        "\n",
        "  print(x)\n",
        "\n",
        "  x= np.array(x)\n",
        "\n",
        "  print(x.shape)\n",
        "\n",
        "  print(x)\n",
        "\n",
        "  pred = model.predict(x)\n",
        "\n",
        "  print(pred)\n",
        "\n",
        "  return render_template('submit.html', prediction_text=pred)"
      ],
      "metadata": {
        "id": "qBVqiGkdIFip"
      },
      "execution_count": null,
      "outputs": []
    },
    {
      "cell_type": "code",
      "source": [
        "if__name__==\"__main__\":\n",
        "app.run(debug=False)"
      ],
      "metadata": {
        "id": "VMw6ukxYI0P9"
      },
      "execution_count": null,
      "outputs": []
    }
  ]
}